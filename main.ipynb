{
 "cells": [
  {
   "cell_type": "code",
   "execution_count": 1,
   "metadata": {},
   "outputs": [
    {
     "name": "stdout",
     "output_type": "stream",
     "text": [
      "(1024,)\n",
      "torch.Size([1024])\n",
      "torch.Size([51])\n"
     ]
    },
    {
     "name": "stderr",
     "output_type": "stream",
     "text": [
      "d:\\miniconda3\\envs\\torch\\lib\\site-packages\\tqdm\\auto.py:21: TqdmWarning: IProgress not found. Please update jupyter and ipywidgets. See https://ipywidgets.readthedocs.io/en/stable/user_install.html\n",
      "  from .autonotebook import tqdm as notebook_tqdm\n"
     ]
    }
   ],
   "source": [
    "import torch\n",
    "import numpy as np\n",
    "import os\n",
    "from tqdm import tqdm\n",
    "from ultis.PointCloudDataLoader import PointCloudDataLoader\n",
    "from feature_to_skeleton import makeSkeleton\n",
    "from pointnet2_ssg_wo_normals.pointnet2_cls_ssg import get_model as get_model_ssg\n",
    "from pointnet2_msg_normals.pointnet2_cls_msg import get_model as get_model_msg, get_loss"
   ]
  },
  {
   "cell_type": "code",
   "execution_count": 2,
   "metadata": {},
   "outputs": [],
   "source": [
    "path = 'data_196' #change path"
   ]
  },
  {
   "cell_type": "code",
   "execution_count": 3,
   "metadata": {},
   "outputs": [
    {
     "name": "stdout",
     "output_type": "stream",
     "text": [
      "(20, 6, 196)\n"
     ]
    }
   ],
   "source": [
    "data_train = PointCloudDataLoader(root= path, split = \"train\", num_pcs = 196, startIndex_split=0, endIndex_split=20) #skip index if you use all dataset"
   ]
  },
  {
   "cell_type": "code",
   "execution_count": 4,
   "metadata": {},
   "outputs": [],
   "source": [
    "ratio = 0.8\n",
    "data_train, data_validate = torch.utils.data.random_split(data_train, [int(len(data_train) * ratio), len(data_train) - int(len(data_train) * ratio)])"
   ]
  },
  {
   "cell_type": "code",
   "execution_count": 5,
   "metadata": {},
   "outputs": [],
   "source": [
    "#change batch_size\n",
    "trainDataLoader = torch.utils.data.DataLoader(data_train, batch_size=2, shuffle=True)\n",
    "validateDataLoader = torch.utils.data.DataLoader(data_validate, batch_size=2, shuffle=False)"
   ]
  },
  {
   "cell_type": "code",
   "execution_count": 6,
   "metadata": {},
   "outputs": [
    {
     "data": {
      "text/plain": [
       "device(type='cuda', index=0)"
      ]
     },
     "execution_count": 6,
     "metadata": {},
     "output_type": "execute_result"
    }
   ],
   "source": [
    "device = torch.device(\"cuda:0\" if torch.cuda.is_available() else \"cpu\")\n",
    "device"
   ]
  },
  {
   "cell_type": "code",
   "execution_count": 7,
   "metadata": {},
   "outputs": [],
   "source": [
    "checkpoint = torch.load('pointnet2_msg_normals\\checkpoints\\\\best_model.pth')\n",
    "model = get_model_msg(num_class=40)\n",
    "model.load_state_dict(checkpoint['model_state_dict'])\n",
    "model.eval()\n",
    "model = model.to(device)"
   ]
  },
  {
   "cell_type": "code",
   "execution_count": 8,
   "metadata": {},
   "outputs": [],
   "source": [
    "modelSkeleton = makeSkeleton()\n",
    "modelSkeleton = modelSkeleton.to(device)"
   ]
  },
  {
   "cell_type": "code",
   "execution_count": 9,
   "metadata": {},
   "outputs": [
    {
     "name": "stderr",
     "output_type": "stream",
     "text": [
      "d:\\miniconda3\\envs\\torch\\lib\\site-packages\\torch\\nn\\_reduction.py:42: UserWarning: size_average and reduce args will be deprecated, please use reduction='mean' instead.\n",
      "  warnings.warn(warning.format(ret))\n"
     ]
    }
   ],
   "source": [
    "criterion = torch.nn.L1Loss(reduce = 'mean')\n",
    "optimizer = torch.optim.Adam(\n",
    "            model.parameters(),\n",
    "            lr=0.01,\n",
    "            betas=(0.9, 0.999),\n",
    "            eps=1e-08,\n",
    "            weight_decay=0.0001\n",
    "        )\n",
    "scheduler = torch.optim.lr_scheduler.StepLR(optimizer, step_size=20, gamma=0.7)\n",
    "global_epoch = 0\n",
    "global_step = 0\n",
    "best_instance_acc = 0.0\n",
    "best_class_acc = 0.0\n",
    "#define epoch\n",
    "start_epoch = 0 #or checkpoint['epoch']\n",
    "end_epoch = 20 "
   ]
  },
  {
   "cell_type": "code",
   "execution_count": 10,
   "metadata": {},
   "outputs": [],
   "source": [
    "import ultis.provider as provider"
   ]
  },
  {
   "cell_type": "code",
   "execution_count": 14,
   "metadata": {},
   "outputs": [
    {
     "name": "stderr",
     "output_type": "stream",
     "text": [
      "100%|██████████| 8/8 [00:02<00:00,  2.74it/s]\n"
     ]
    },
    {
     "name": "stdout",
     "output_type": "stream",
     "text": [
      "Epoch 0 end. Loss is 0.2231395523995161\n"
     ]
    },
    {
     "name": "stderr",
     "output_type": "stream",
     "text": [
      "100%|██████████| 2/2 [00:00<00:00,  3.53it/s]\n"
     ]
    },
    {
     "name": "stdout",
     "output_type": "stream",
     "text": [
      "Vaild is: 0.2638288736343384. Loss is lower than lowest loss: 0.0. Saving model...\n",
      "Model saved at save_model/model.pth save_model/modelSkeleton.pth\n"
     ]
    },
    {
     "name": "stderr",
     "output_type": "stream",
     "text": [
      "100%|██████████| 8/8 [00:02<00:00,  2.80it/s]\n"
     ]
    },
    {
     "name": "stdout",
     "output_type": "stream",
     "text": [
      "Epoch 1 end. Loss is 0.2276439480483532\n"
     ]
    },
    {
     "name": "stderr",
     "output_type": "stream",
     "text": [
      "100%|██████████| 2/2 [00:00<00:00,  3.76it/s]\n"
     ]
    },
    {
     "name": "stdout",
     "output_type": "stream",
     "text": [
      "Vaild is: 0.24360495805740356. Loss is lower than lowest loss: 0.2638288736343384. Saving model...\n",
      "Model saved at save_model/model.pth save_model/modelSkeleton.pth\n"
     ]
    },
    {
     "name": "stderr",
     "output_type": "stream",
     "text": [
      "100%|██████████| 8/8 [00:02<00:00,  2.78it/s]\n"
     ]
    },
    {
     "name": "stdout",
     "output_type": "stream",
     "text": [
      "Epoch 2 end. Loss is 0.2247332949191332\n"
     ]
    },
    {
     "name": "stderr",
     "output_type": "stream",
     "text": [
      "100%|██████████| 2/2 [00:00<00:00,  3.81it/s]\n"
     ]
    },
    {
     "name": "stdout",
     "output_type": "stream",
     "text": [
      "Vaild is: 0.2782020717859268. \n"
     ]
    },
    {
     "name": "stderr",
     "output_type": "stream",
     "text": [
      "100%|██████████| 8/8 [00:02<00:00,  2.84it/s]\n"
     ]
    },
    {
     "name": "stdout",
     "output_type": "stream",
     "text": [
      "Epoch 3 end. Loss is 0.21090286038815975\n"
     ]
    },
    {
     "name": "stderr",
     "output_type": "stream",
     "text": [
      "100%|██████████| 2/2 [00:00<00:00,  3.69it/s]\n"
     ]
    },
    {
     "name": "stdout",
     "output_type": "stream",
     "text": [
      "Vaild is: 0.2809007912874222. \n"
     ]
    },
    {
     "name": "stderr",
     "output_type": "stream",
     "text": [
      "100%|██████████| 8/8 [00:02<00:00,  2.84it/s]\n"
     ]
    },
    {
     "name": "stdout",
     "output_type": "stream",
     "text": [
      "Epoch 4 end. Loss is 0.2162171397358179\n"
     ]
    },
    {
     "name": "stderr",
     "output_type": "stream",
     "text": [
      "100%|██████████| 2/2 [00:00<00:00,  3.87it/s]\n"
     ]
    },
    {
     "name": "stdout",
     "output_type": "stream",
     "text": [
      "Vaild is: 0.28422942757606506. \n"
     ]
    },
    {
     "name": "stderr",
     "output_type": "stream",
     "text": [
      "100%|██████████| 8/8 [00:02<00:00,  2.84it/s]\n"
     ]
    },
    {
     "name": "stdout",
     "output_type": "stream",
     "text": [
      "Epoch 5 end. Loss is 0.21958418749272823\n"
     ]
    },
    {
     "name": "stderr",
     "output_type": "stream",
     "text": [
      "100%|██████████| 2/2 [00:00<00:00,  3.79it/s]\n"
     ]
    },
    {
     "name": "stdout",
     "output_type": "stream",
     "text": [
      "Vaild is: 0.2895266115665436. \n"
     ]
    },
    {
     "name": "stderr",
     "output_type": "stream",
     "text": [
      "100%|██████████| 8/8 [00:02<00:00,  2.88it/s]\n"
     ]
    },
    {
     "name": "stdout",
     "output_type": "stream",
     "text": [
      "Epoch 6 end. Loss is 0.1996298562735319\n"
     ]
    },
    {
     "name": "stderr",
     "output_type": "stream",
     "text": [
      "100%|██████████| 2/2 [00:00<00:00,  3.56it/s]\n"
     ]
    },
    {
     "name": "stdout",
     "output_type": "stream",
     "text": [
      "Vaild is: 0.22431885451078415. Loss is lower than lowest loss: 0.24360495805740356. Saving model...\n",
      "Model saved at save_model/model.pth save_model/modelSkeleton.pth\n"
     ]
    },
    {
     "name": "stderr",
     "output_type": "stream",
     "text": [
      "100%|██████████| 8/8 [00:02<00:00,  2.81it/s]\n"
     ]
    },
    {
     "name": "stdout",
     "output_type": "stream",
     "text": [
      "Epoch 7 end. Loss is 0.20677724294364452\n"
     ]
    },
    {
     "name": "stderr",
     "output_type": "stream",
     "text": [
      "100%|██████████| 2/2 [00:00<00:00,  3.51it/s]\n"
     ]
    },
    {
     "name": "stdout",
     "output_type": "stream",
     "text": [
      "Vaild is: 0.2510383576154709. \n"
     ]
    },
    {
     "name": "stderr",
     "output_type": "stream",
     "text": [
      "100%|██████████| 8/8 [00:02<00:00,  2.80it/s]\n"
     ]
    },
    {
     "name": "stdout",
     "output_type": "stream",
     "text": [
      "Epoch 8 end. Loss is 0.18559540435671806\n"
     ]
    },
    {
     "name": "stderr",
     "output_type": "stream",
     "text": [
      "100%|██████████| 2/2 [00:00<00:00,  3.65it/s]\n"
     ]
    },
    {
     "name": "stdout",
     "output_type": "stream",
     "text": [
      "Vaild is: 0.2674129754304886. \n"
     ]
    },
    {
     "name": "stderr",
     "output_type": "stream",
     "text": [
      "100%|██████████| 8/8 [00:02<00:00,  2.84it/s]\n"
     ]
    },
    {
     "name": "stdout",
     "output_type": "stream",
     "text": [
      "Epoch 9 end. Loss is 0.19030687026679516\n"
     ]
    },
    {
     "name": "stderr",
     "output_type": "stream",
     "text": [
      "100%|██████████| 2/2 [00:00<00:00,  3.93it/s]\n"
     ]
    },
    {
     "name": "stdout",
     "output_type": "stream",
     "text": [
      "Vaild is: 0.27871477603912354. \n"
     ]
    },
    {
     "name": "stderr",
     "output_type": "stream",
     "text": [
      "100%|██████████| 8/8 [00:02<00:00,  2.81it/s]\n"
     ]
    },
    {
     "name": "stdout",
     "output_type": "stream",
     "text": [
      "Epoch 10 end. Loss is 0.18383751064538956\n"
     ]
    },
    {
     "name": "stderr",
     "output_type": "stream",
     "text": [
      "100%|██████████| 2/2 [00:00<00:00,  3.76it/s]\n"
     ]
    },
    {
     "name": "stdout",
     "output_type": "stream",
     "text": [
      "Vaild is: 0.2725010812282562. \n"
     ]
    },
    {
     "name": "stderr",
     "output_type": "stream",
     "text": [
      "100%|██████████| 8/8 [00:02<00:00,  2.87it/s]\n"
     ]
    },
    {
     "name": "stdout",
     "output_type": "stream",
     "text": [
      "Epoch 11 end. Loss is 0.2124041933566332\n"
     ]
    },
    {
     "name": "stderr",
     "output_type": "stream",
     "text": [
      "100%|██████████| 2/2 [00:00<00:00,  3.68it/s]\n"
     ]
    },
    {
     "name": "stdout",
     "output_type": "stream",
     "text": [
      "Vaild is: 0.28318899869918823. \n"
     ]
    },
    {
     "name": "stderr",
     "output_type": "stream",
     "text": [
      "100%|██████████| 8/8 [00:02<00:00,  2.86it/s]\n"
     ]
    },
    {
     "name": "stdout",
     "output_type": "stream",
     "text": [
      "Epoch 12 end. Loss is 0.19823336973786354\n"
     ]
    },
    {
     "name": "stderr",
     "output_type": "stream",
     "text": [
      "100%|██████████| 2/2 [00:00<00:00,  3.62it/s]\n"
     ]
    },
    {
     "name": "stdout",
     "output_type": "stream",
     "text": [
      "Vaild is: 0.24265054613351822. \n"
     ]
    },
    {
     "name": "stderr",
     "output_type": "stream",
     "text": [
      "100%|██████████| 8/8 [00:03<00:00,  2.63it/s]\n"
     ]
    },
    {
     "name": "stdout",
     "output_type": "stream",
     "text": [
      "Epoch 13 end. Loss is 0.1894356980919838\n"
     ]
    },
    {
     "name": "stderr",
     "output_type": "stream",
     "text": [
      "100%|██████████| 2/2 [00:00<00:00,  3.81it/s]\n"
     ]
    },
    {
     "name": "stdout",
     "output_type": "stream",
     "text": [
      "Vaild is: 0.18230099231004715. Loss is lower than lowest loss: 0.22431885451078415. Saving model...\n",
      "Model saved at save_model/model.pth save_model/modelSkeleton.pth\n"
     ]
    },
    {
     "name": "stderr",
     "output_type": "stream",
     "text": [
      "100%|██████████| 8/8 [00:02<00:00,  2.79it/s]\n"
     ]
    },
    {
     "name": "stdout",
     "output_type": "stream",
     "text": [
      "Epoch 14 end. Loss is 0.19118625298142433\n"
     ]
    },
    {
     "name": "stderr",
     "output_type": "stream",
     "text": [
      "100%|██████████| 2/2 [00:00<00:00,  3.86it/s]\n"
     ]
    },
    {
     "name": "stdout",
     "output_type": "stream",
     "text": [
      "Vaild is: 0.184634268283844. \n"
     ]
    },
    {
     "name": "stderr",
     "output_type": "stream",
     "text": [
      "100%|██████████| 8/8 [00:02<00:00,  2.78it/s]\n"
     ]
    },
    {
     "name": "stdout",
     "output_type": "stream",
     "text": [
      "Epoch 15 end. Loss is 0.18361712247133255\n"
     ]
    },
    {
     "name": "stderr",
     "output_type": "stream",
     "text": [
      "100%|██████████| 2/2 [00:00<00:00,  3.89it/s]\n"
     ]
    },
    {
     "name": "stdout",
     "output_type": "stream",
     "text": [
      "Vaild is: 0.18300247192382812. \n"
     ]
    },
    {
     "name": "stderr",
     "output_type": "stream",
     "text": [
      "100%|██████████| 8/8 [00:02<00:00,  2.83it/s]\n"
     ]
    },
    {
     "name": "stdout",
     "output_type": "stream",
     "text": [
      "Epoch 16 end. Loss is 0.17663046903908253\n"
     ]
    },
    {
     "name": "stderr",
     "output_type": "stream",
     "text": [
      "100%|██████████| 2/2 [00:00<00:00,  3.71it/s]\n"
     ]
    },
    {
     "name": "stdout",
     "output_type": "stream",
     "text": [
      "Vaild is: 0.19131536036729813. \n"
     ]
    },
    {
     "name": "stderr",
     "output_type": "stream",
     "text": [
      "100%|██████████| 8/8 [00:02<00:00,  2.86it/s]\n"
     ]
    },
    {
     "name": "stdout",
     "output_type": "stream",
     "text": [
      "Epoch 17 end. Loss is 0.21194584295153618\n"
     ]
    },
    {
     "name": "stderr",
     "output_type": "stream",
     "text": [
      "100%|██████████| 2/2 [00:00<00:00,  3.59it/s]\n"
     ]
    },
    {
     "name": "stdout",
     "output_type": "stream",
     "text": [
      "Vaild is: 0.22756798565387726. \n"
     ]
    },
    {
     "name": "stderr",
     "output_type": "stream",
     "text": [
      "100%|██████████| 8/8 [00:03<00:00,  2.01it/s]\n"
     ]
    },
    {
     "name": "stdout",
     "output_type": "stream",
     "text": [
      "Epoch 18 end. Loss is 0.17308819480240345\n"
     ]
    },
    {
     "name": "stderr",
     "output_type": "stream",
     "text": [
      "100%|██████████| 2/2 [00:00<00:00,  3.05it/s]\n"
     ]
    },
    {
     "name": "stdout",
     "output_type": "stream",
     "text": [
      "Vaild is: 0.2208707183599472. \n"
     ]
    },
    {
     "name": "stderr",
     "output_type": "stream",
     "text": [
      "100%|██████████| 8/8 [00:03<00:00,  2.58it/s]\n"
     ]
    },
    {
     "name": "stdout",
     "output_type": "stream",
     "text": [
      "Epoch 19 end. Loss is 0.17041432484984398\n"
     ]
    },
    {
     "name": "stderr",
     "output_type": "stream",
     "text": [
      "100%|██████████| 2/2 [00:00<00:00,  3.65it/s]"
     ]
    },
    {
     "name": "stdout",
     "output_type": "stream",
     "text": [
      "Vaild is: 0.2190317064523697. \n"
     ]
    },
    {
     "name": "stderr",
     "output_type": "stream",
     "text": [
      "\n"
     ]
    }
   ],
   "source": [
    "min_loss = 0.0\n",
    "for epoch in range(start_epoch, end_epoch):\n",
    "    running_train_loss = 0.0\n",
    "    model = model.train()\n",
    "    scheduler.step()\n",
    "    for id, (points, target) in tqdm(enumerate(trainDataLoader, 0), total=len(trainDataLoader), smoothing=0.9):\n",
    "        optimizer.zero_grad()\n",
    "        points = points.transpose(2,1)\n",
    "        points = points.cpu().numpy()\n",
    "        \n",
    "        points = provider.random_point_dropout(points)\n",
    "        points[:, :, 0:3] = provider.random_scale_point_cloud(points[:, :, 0:3])\n",
    "        points[:, :, 0:3] = provider.shift_point_cloud(points[:, :, 0:3])\n",
    "        points = torch.Tensor(points)\n",
    "        points = points.transpose(2,1)\n",
    "        \n",
    "        #change to cuda\n",
    "        points, target = points.to(device), target.to(device)\n",
    "\n",
    "\n",
    "        trans, features = model(points)\n",
    "        features = torch.reshape(features, (features.shape[0], 1024))\n",
    "        features = features.to(device)\n",
    "\n",
    "        pred_skeleton = modelSkeleton(features)\n",
    "\n",
    "        loss = criterion(torch.flatten(pred_skeleton), torch.flatten(target))\n",
    "        #print(f'loss is: {loss}')\n",
    "        loss.backward()\n",
    "        optimizer.step()\n",
    "        global_step += 1\n",
    "        running_train_loss += loss.item()\n",
    "    print(f\"Epoch {epoch} end. Loss is {running_train_loss/len(trainDataLoader)}\")\n",
    "    model = model.eval()\n",
    "    running_vaild_loss = 0.0\n",
    "    with torch.no_grad():\n",
    "      for id, (points, target) in tqdm(enumerate(validateDataLoader, 0), total=len(validateDataLoader)):\n",
    "\n",
    "\n",
    "        points, target = points.to(device), target.to(device)\n",
    "        trans, features = model(points)\n",
    "        features = torch.reshape(features, (features.shape[0], 1024))\n",
    "        features = features.to(device)\n",
    "\n",
    "        pred_skeleton = modelSkeleton(features)\n",
    "\n",
    "        loss = criterion(torch.flatten(pred_skeleton), torch.flatten(target))\n",
    "        #print(f'loss is: {loss}')\n",
    "        running_vaild_loss += loss.item()\n",
    "      excepted_loss = running_vaild_loss/len(validateDataLoader)\n",
    "      print(f\"Vaild is: {excepted_loss}\", end = '. ')\n",
    "      if epoch == start_epoch or excepted_loss < min_loss:\n",
    "        print(f\"Loss is lower than lowest loss: {min_loss}. Saving model...\")\n",
    "        min_loss = excepted_loss\n",
    "        torch.save(model.state_dict(), f\"save_model/model.pth\")\n",
    "        torch.save(modelSkeleton.state_dict(), f\"save_model/modelSkeleton.pth\")\n",
    "        print(f\"Model saved at save_model/model.pth save_model/modelSkeleton.pth\",end='')\n",
    "      print()\n"
   ]
  },
  {
   "cell_type": "markdown",
   "metadata": {},
   "source": [
    "FIND TEST LOSS:"
   ]
  },
  {
   "cell_type": "code",
   "execution_count": 63,
   "metadata": {},
   "outputs": [],
   "source": [
    "def testLoss(testDataLoader, model, skeletonModel):\n",
    "    running_vaild_loss = 0.0\n",
    "    with torch.no_grad():\n",
    "      for id, (points, target) in tqdm(enumerate(testDataLoader, 0), total=len(testDataLoader)):\n",
    "\n",
    "\n",
    "        points, target = points.to(device), target.to(device)\n",
    "        trans, features = model(points)\n",
    "        features = torch.reshape(features, (features.shape[0], 1024))\n",
    "        features = features.to(device)\n",
    "\n",
    "        pred_skeleton = modelSkeleton(features)\n",
    "\n",
    "        loss = criterion(torch.flatten(pred_skeleton), torch.flatten(target))\n",
    "        #print(f'loss is: {loss}')\n",
    "        running_vaild_loss += loss.item()\n",
    "      excepted_loss = running_vaild_loss/len(testDataLoader)\n",
    "      print(f\"Loss of test file is: {excepted_loss}\", end = '. ')"
   ]
  },
  {
   "cell_type": "code",
   "execution_count": 58,
   "metadata": {},
   "outputs": [
    {
     "name": "stdout",
     "output_type": "stream",
     "text": [
      "(20, 6, 196)\n"
     ]
    }
   ],
   "source": [
    "data_test = PointCloudDataLoader(root= path, split = \"test\", num_pcs = 196, startIndex_split=0, endIndex_split=20) #skip index if you use all dataset"
   ]
  },
  {
   "cell_type": "code",
   "execution_count": 59,
   "metadata": {},
   "outputs": [],
   "source": [
    "testDataLoader = torch.utils.data.DataLoader(data_test, batch_size=1, shuffle=True)"
   ]
  },
  {
   "cell_type": "code",
   "execution_count": 64,
   "metadata": {},
   "outputs": [
    {
     "name": "stderr",
     "output_type": "stream",
     "text": [
      "100%|██████████| 20/20 [00:05<00:00,  3.73it/s]"
     ]
    },
    {
     "name": "stdout",
     "output_type": "stream",
     "text": [
      "Loss of test file is: 0.19079884514212608. "
     ]
    },
    {
     "name": "stderr",
     "output_type": "stream",
     "text": [
      "\n"
     ]
    }
   ],
   "source": [
    "testLoss(testDataLoader, model, modelSkeleton)"
   ]
  },
  {
   "cell_type": "markdown",
   "metadata": {},
   "source": [
    "TEST ONE POINT CLOUD:"
   ]
  },
  {
   "cell_type": "code",
   "execution_count": 15,
   "metadata": {},
   "outputs": [
    {
     "name": "stdout",
     "output_type": "stream",
     "text": [
      "(14, 14, 5)\n"
     ]
    }
   ],
   "source": [
    "a = np.load('data_196\\X_train.npy')"
   ]
  },
  {
   "cell_type": "code",
   "execution_count": 32,
   "metadata": {},
   "outputs": [],
   "source": [
    "b = np.load('data_196/y_train.npy')"
   ]
  },
  {
   "cell_type": "code",
   "execution_count": 16,
   "metadata": {},
   "outputs": [
    {
     "name": "stdout",
     "output_type": "stream",
     "text": [
      "(196, 5)\n"
     ]
    }
   ],
   "source": [
    "pc = a[0].reshape(196,5)\n",
    "print(pc.shape)"
   ]
  },
  {
   "cell_type": "code",
   "execution_count": 41,
   "metadata": {},
   "outputs": [],
   "source": [
    "def get_feature(pc):\n",
    "    with torch.no_grad():\n",
    "        pc = pc.reshape(1, 196, 5)\n",
    "        pc = np.transpose(pc, (0, 2, 1))\n",
    "        pc = np.insert(pc, 5, 0, axis = 1)\n",
    "        pc = pc.astype(np.float32)\n",
    "        pc = torch.tensor(pc)\n",
    "        pc = pc.to(device)\n",
    "        output, features = model(pc)\n",
    "        features = torch.reshape(features, (features.shape[0], 1024))\n",
    "        features = features.to(device)\n",
    "\n",
    "        pred_skeleton = modelSkeleton(features)\n",
    "        pred_skeleton = pred_skeleton.cpu().numpy()\n",
    "        pred_skeleton = pred_skeleton.reshape(17, 3)\n",
    "        return pred_skeleton"
   ]
  },
  {
   "cell_type": "code",
   "execution_count": 42,
   "metadata": {},
   "outputs": [],
   "source": [
    "pred_skeleton = get_feature(pc)"
   ]
  },
  {
   "cell_type": "code",
   "execution_count": 43,
   "metadata": {},
   "outputs": [
    {
     "data": {
      "text/plain": [
       "(17, 3)"
      ]
     },
     "execution_count": 43,
     "metadata": {},
     "output_type": "execute_result"
    }
   ],
   "source": [
    "true_skeleton.shape"
   ]
  },
  {
   "cell_type": "code",
   "execution_count": 46,
   "metadata": {},
   "outputs": [],
   "source": [
    "pred_skeleton = pred_skeleton.reshape(17, 3)"
   ]
  },
  {
   "cell_type": "code",
   "execution_count": 47,
   "metadata": {},
   "outputs": [
    {
     "data": {
      "text/plain": [
       "(17, 3)"
      ]
     },
     "execution_count": 47,
     "metadata": {},
     "output_type": "execute_result"
    }
   ],
   "source": [
    "pred_skeleton.shape"
   ]
  },
  {
   "cell_type": "code",
   "execution_count": 54,
   "metadata": {},
   "outputs": [],
   "source": [
    "import matplotlib.pyplot as plt\n",
    "def visualize(data_pc, pred_label, true_label):\n",
    "        #data_pcs = np.load(\"D:\\Documents\\AIProject\\HAR\\pointnet2\\Pointnet_Pointnet2_pytorch\\log\\classification\\data_196\\X_test.npy\")\n",
    "        #pred_labels = np.load('D:\\Documents\\AIProject\\HAR\\pointnet2\\Pointnet_Pointnet2_pytorch\\log\\classification\\data_196\\y_test.npy')\n",
    "\n",
    "        fig, axs = plt.subplots(1, 3, figsize=(15, 10), subplot_kw={'projection': '3d'})\n",
    "        axs[0].clear()\n",
    "        axs[0].scatter(data_pc[:, 0], data_pc[:,2], data_pc[:,1])  \n",
    "        axs[0].set_xlim(-2, 2)\n",
    "        axs[0].set_ylim(0, 6)\n",
    "        axs[0].set_zlim(-2, 2)\n",
    "        axs[0].set_xlabel('X')\n",
    "        axs[0].set_ylabel('Y')\n",
    "        axs[0].set_zlabel('Z')\n",
    "        axs[0].view_init(10, -100)\n",
    "        axs[0].set_xticks([-2, -1, 0, 1, 2])\n",
    "        axs[0].set_yticks([0, 2, 4, 6])\n",
    "        axs[0].set_zticks([-2, -1, 0, 1, 2])\n",
    "\n",
    "        axs[1].clear()\n",
    "        axs[1].scatter(pred_label[:, 0], pred_label[:,2], pred_label[:,1])  \n",
    "        axs[1].set_xlim(-2, 2)\n",
    "        axs[1].set_ylim(0, 6)\n",
    "        axs[1].set_zlim(-2, 2)\n",
    "        axs[1].set_xlabel('X')\n",
    "        axs[1].set_ylabel('Y')\n",
    "        axs[1].set_zlabel('Z')\n",
    "        axs[1].view_init(10, -100)\n",
    "        axs[1].set_xticks([-2, -1, 0, 1, 2])\n",
    "        axs[1].set_yticks([0, 2, 4, 6])\n",
    "        axs[1].set_zticks([-2, -1, 0, 1, 2])\n",
    "\n",
    "        axs[2].clear()\n",
    "        axs[2].scatter(true_label[:, 0], true_label[:,2], true_label[:,1])\n",
    "        axs[2].set_xlim(-2, 2)\n",
    "        axs[2].set_ylim(0, 6)\n",
    "        axs[2].set_zlim(-2, 2)\n",
    "        axs[2].set_xlabel('X')\n",
    "        axs[2].set_ylabel('Y')\n",
    "        axs[2].set_zlabel('Z')\n",
    "        axs[2].view_init(10, -100)\n",
    "        axs[2].set_xticks([-2, -1, 0, 1, 2])\n",
    "        axs[2].set_yticks([0, 2, 4, 6])\n",
    "        axs[2].set_zticks([-2, -1, 0, 1, 2])\n",
    "\n",
    "\n",
    "        plt.show()"
   ]
  },
  {
   "cell_type": "code",
   "execution_count": 55,
   "metadata": {},
   "outputs": [
    {
     "data": {
      "image/png": "[encoded data removed]",
      "text/plain": [
       "<Figure size 1500x1000 with 3 Axes>"
      ]
     },
     "metadata": {},
     "output_type": "display_data"
    }
   ],
   "source": [
    "visualize(pc, pred_skeleton, true_skeleton)"
   ]
  }
 ],
 "metadata": {
  "kernelspec": {
   "display_name": "torch",
   "language": "python",
   "name": "python3"
  },
  "language_info": {
   "codemirror_mode": {
    "name": "ipython",
    "version": 3
   },
   "file_extension": ".py",
   "mimetype": "text/x-python",
   "name": "python",
   "nbconvert_exporter": "python",
   "pygments_lexer": "ipython3",
   "version": "3.9.0"
  },
  "orig_nbformat": 4
 },
 "nbformat": 4,
 "nbformat_minor": 2
}
