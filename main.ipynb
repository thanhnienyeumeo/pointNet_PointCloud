{
 "cells": [
  {
   "cell_type": "code",
   "execution_count": 1,
   "metadata": {},
   "outputs": [
    {
     "name": "stderr",
     "output_type": "stream",
     "text": [
      "d:\\miniconda3\\envs\\torch\\lib\\site-packages\\tqdm\\auto.py:21: TqdmWarning: IProgress not found. Please update jupyter and ipywidgets. See https://ipywidgets.readthedocs.io/en/stable/user_install.html\n",
      "  from .autonotebook import tqdm as notebook_tqdm\n"
     ]
    },
    {
     "name": "stdout",
     "output_type": "stream",
     "text": [
      "(1024,)\n",
      "torch.Size([1024])\n",
      "torch.Size([51])\n"
     ]
    }
   ],
   "source": [
    "import torch\n",
    "import numpy as np\n",
    "import os\n",
    "from tqdm import tqdm\n",
    "from ultis.PointCloudDataLoader import PointCloudDataLoader\n",
    "from feature_to_skeleton import makeSkeleton\n",
    "from pointnet2_ssg_wo_normals.pointnet2_cls_ssg import get_model as get_model_ssg\n",
    "from pointnet2_msg_normals.pointnet2_cls_msg import get_model as get_model_msg, get_loss"
   ]
  },
  {
   "cell_type": "code",
   "execution_count": 27,
   "metadata": {},
   "outputs": [],
   "source": [
    "from ultis.provider import *"
   ]
  },
  {
   "cell_type": "code",
   "execution_count": 2,
   "metadata": {},
   "outputs": [],
   "source": [
    "path = 'data_196' #change path"
   ]
  },
  {
   "cell_type": "code",
   "execution_count": 3,
   "metadata": {},
   "outputs": [
    {
     "name": "stdout",
     "output_type": "stream",
     "text": [
      "(10, 6, 196)\n",
      "(10, 6, 196)\n"
     ]
    }
   ],
   "source": [
    "data_train = PointCloudDataLoader(path, \"train\")\n",
    "data_test = PointCloudDataLoader(root=path, split=\"test\")"
   ]
  },
  {
   "cell_type": "code",
   "execution_count": 7,
   "metadata": {},
   "outputs": [],
   "source": [
    "iterr = iter(trainDataLoader)\n",
    "first = next(iterr)\n",
    "points, target = first"
   ]
  },
  {
   "cell_type": "code",
   "execution_count": 8,
   "metadata": {},
   "outputs": [
    {
     "name": "stdout",
     "output_type": "stream",
     "text": [
      "tensor([[[-2.9573e-01, -4.0345e-02,  1.8374e-04],\n",
      "         [-4.2653e-01, -5.1735e-02,  2.9287e-02],\n",
      "         [-4.0761e-01, -5.2567e-01,  1.3018e-01],\n",
      "         [-3.8501e-01, -9.3739e-01,  2.4094e-01],\n",
      "         [-1.6738e-01, -5.5608e-02,  7.8891e-03],\n",
      "         [-2.2428e-01, -5.3188e-01,  1.2798e-01],\n",
      "         [-2.4473e-01, -9.4196e-01,  2.3784e-01],\n",
      "         [-2.9881e-01,  3.2493e-01, -6.1992e-02],\n",
      "         [-3.0503e-01,  6.8523e-01, -1.5394e-01],\n",
      "         [-3.1197e-01,  8.5582e-01, -2.6125e-01],\n",
      "         [-3.1706e-01,  1.0123e+00, -2.4933e-01],\n",
      "         [-1.0069e-01,  5.6681e-01, -8.8446e-02],\n",
      "         [-5.8730e-02,  2.2390e-01,  9.0998e-02],\n",
      "         [-6.1183e-02, -7.5171e-02,  1.6744e-01],\n",
      "         [-4.9913e-01,  5.7636e-01, -1.2509e-01],\n",
      "         [-5.5027e-01,  2.4450e-01,  3.2677e-02],\n",
      "         [-5.4421e-01, -6.0775e-02,  6.8661e-02]],\n",
      "\n",
      "        [[-2.9531e-01, -3.9960e-02,  2.0530e-04],\n",
      "         [-4.2746e-01, -5.1544e-02,  2.9540e-02],\n",
      "         [-4.0804e-01, -5.2537e-01,  1.3026e-01],\n",
      "         [-3.8408e-01, -9.3690e-01,  2.4144e-01],\n",
      "         [-1.6709e-01, -5.5653e-02,  7.4290e-03],\n",
      "         [-2.2419e-01, -5.3193e-01,  1.2834e-01],\n",
      "         [-2.4489e-01, -9.4172e-01,  2.3819e-01],\n",
      "         [-2.9862e-01,  3.2519e-01, -6.2395e-02],\n",
      "         [-3.0479e-01,  6.8597e-01, -1.5464e-01],\n",
      "         [-3.1149e-01,  8.5639e-01, -2.6211e-01],\n",
      "         [-3.1683e-01,  1.0144e+00, -2.5023e-01],\n",
      "         [-1.0044e-01,  5.6774e-01, -8.9667e-02],\n",
      "         [-5.9333e-02,  2.2396e-01,  9.1087e-02],\n",
      "         [-6.2180e-02, -7.7023e-02,  1.6531e-01],\n",
      "         [-5.0026e-01,  5.7721e-01, -1.2584e-01],\n",
      "         [-5.5136e-01,  2.4460e-01,  3.2816e-02],\n",
      "         [-5.4453e-01, -6.1290e-02,  7.0711e-02]]])\n"
     ]
    }
   ],
   "source": [
    "print(target)"
   ]
  },
  {
   "cell_type": "code",
   "execution_count": 5,
   "metadata": {},
   "outputs": [],
   "source": [
    "trainDataLoader = torch.utils.data.DataLoader(data_train, batch_size=2, shuffle=True)\n",
    "testDataLoader = torch.utils.data.DataLoader(data_test, batch_size=2, shuffle=False)"
   ]
  },
  {
   "cell_type": "code",
   "execution_count": 5,
   "metadata": {},
   "outputs": [],
   "source": [
    "checkpoint = torch.load('D:\\Documents\\AIProject\\HAR\\pointnet2\\Pointnet_Pointnet2_pytorch\\log\\classification\\pointnet2_msg_normals\\checkpoints\\\\best_model.pth')\n",
    "model = get_model_msg(num_class=40)\n",
    "model.load_state_dict(checkpoint['model_state_dict'])\n",
    "model.eval()\n",
    "model = model.cuda()"
   ]
  },
  {
   "cell_type": "code",
   "execution_count": 7,
   "metadata": {},
   "outputs": [],
   "source": [
    "modelSkeleton = makeSkeleton()\n",
    "modelSkeleton = modelSkeleton.cuda()"
   ]
  },
  {
   "cell_type": "code",
   "execution_count": 8,
   "metadata": {},
   "outputs": [],
   "source": [
    "criterion = torch.nn.MSELoss()\n"
   ]
  },
  {
   "cell_type": "code",
   "execution_count": 9,
   "metadata": {},
   "outputs": [],
   "source": [
    "optimizer = torch.optim.SGD(model.parameters(), lr=0.01, momentum=0.9)\n",
    "scheduler = torch.optim.lr_scheduler.StepLR(optimizer, step_size=20, gamma=0.7)\n",
    "global_epoch = 0\n",
    "global_step = 0\n",
    "best_instance_acc = 0.0\n",
    "best_class_acc = 0.0\n",
    "start_epoch = 0 #checkpoint['epoch']"
   ]
  },
  {
   "cell_type": "code",
   "execution_count": 12,
   "metadata": {},
   "outputs": [
    {
     "name": "stderr",
     "output_type": "stream",
     "text": [
      " 20%|██        | 1/5 [00:00<00:01,  2.80it/s]"
     ]
    },
    {
     "name": "stdout",
     "output_type": "stream",
     "text": [
      "torch.Size([2, 1024])\n",
      "torch.Size([2, 51])\n",
      "loss is: 0.14180532097816467\n"
     ]
    },
    {
     "name": "stderr",
     "output_type": "stream",
     "text": [
      " 40%|████      | 2/5 [00:00<00:01,  2.44it/s]"
     ]
    },
    {
     "name": "stdout",
     "output_type": "stream",
     "text": [
      "torch.Size([2, 1024])\n",
      "torch.Size([2, 51])\n",
      "loss is: 0.14244703948497772\n"
     ]
    },
    {
     "name": "stderr",
     "output_type": "stream",
     "text": [
      " 60%|██████    | 3/5 [00:01<00:00,  2.44it/s]"
     ]
    },
    {
     "name": "stdout",
     "output_type": "stream",
     "text": [
      "torch.Size([2, 1024])\n",
      "torch.Size([2, 51])\n",
      "loss is: 0.14218468964099884\n"
     ]
    },
    {
     "name": "stderr",
     "output_type": "stream",
     "text": [
      " 80%|████████  | 4/5 [00:01<00:00,  2.23it/s]"
     ]
    },
    {
     "name": "stdout",
     "output_type": "stream",
     "text": [
      "torch.Size([2, 1024])\n",
      "torch.Size([2, 51])\n",
      "loss is: 0.14119452238082886\n"
     ]
    },
    {
     "name": "stderr",
     "output_type": "stream",
     "text": [
      "100%|██████████| 5/5 [00:02<00:00,  2.44it/s]\n"
     ]
    },
    {
     "name": "stdout",
     "output_type": "stream",
     "text": [
      "torch.Size([2, 1024])\n",
      "torch.Size([2, 51])\n",
      "loss is: 0.14231321215629578\n"
     ]
    },
    {
     "name": "stderr",
     "output_type": "stream",
     "text": [
      " 20%|██        | 1/5 [00:00<00:01,  2.82it/s]"
     ]
    },
    {
     "name": "stdout",
     "output_type": "stream",
     "text": [
      "torch.Size([2, 1024])\n",
      "torch.Size([2, 51])\n",
      "loss is: 0.1422908753156662\n"
     ]
    },
    {
     "name": "stderr",
     "output_type": "stream",
     "text": [
      " 40%|████      | 2/5 [00:00<00:01,  2.76it/s]"
     ]
    },
    {
     "name": "stdout",
     "output_type": "stream",
     "text": [
      "torch.Size([2, 1024])\n",
      "torch.Size([2, 51])\n",
      "loss is: 0.1414678692817688\n"
     ]
    },
    {
     "name": "stderr",
     "output_type": "stream",
     "text": [
      " 60%|██████    | 3/5 [00:01<00:00,  2.54it/s]"
     ]
    },
    {
     "name": "stdout",
     "output_type": "stream",
     "text": [
      "torch.Size([2, 1024])\n",
      "torch.Size([2, 51])\n",
      "loss is: 0.1421879529953003\n"
     ]
    },
    {
     "name": "stderr",
     "output_type": "stream",
     "text": [
      " 80%|████████  | 4/5 [00:01<00:00,  2.63it/s]"
     ]
    },
    {
     "name": "stdout",
     "output_type": "stream",
     "text": [
      "torch.Size([2, 1024])\n",
      "torch.Size([2, 51])\n",
      "loss is: 0.14210332930088043\n"
     ]
    },
    {
     "name": "stderr",
     "output_type": "stream",
     "text": [
      "100%|██████████| 5/5 [00:01<00:00,  2.69it/s]\n"
     ]
    },
    {
     "name": "stdout",
     "output_type": "stream",
     "text": [
      "torch.Size([2, 1024])\n",
      "torch.Size([2, 51])\n",
      "loss is: 0.14177046716213226\n"
     ]
    },
    {
     "name": "stderr",
     "output_type": "stream",
     "text": [
      " 20%|██        | 1/5 [00:00<00:01,  2.53it/s]"
     ]
    },
    {
     "name": "stdout",
     "output_type": "stream",
     "text": [
      "torch.Size([2, 1024])\n",
      "torch.Size([2, 51])\n",
      "loss is: 0.14144615828990936\n"
     ]
    },
    {
     "name": "stderr",
     "output_type": "stream",
     "text": [
      " 40%|████      | 2/5 [00:00<00:01,  2.75it/s]"
     ]
    },
    {
     "name": "stdout",
     "output_type": "stream",
     "text": [
      "torch.Size([2, 1024])\n",
      "torch.Size([2, 51])\n",
      "loss is: 0.14187659323215485\n"
     ]
    },
    {
     "name": "stderr",
     "output_type": "stream",
     "text": [
      " 60%|██████    | 3/5 [00:01<00:00,  2.41it/s]"
     ]
    },
    {
     "name": "stdout",
     "output_type": "stream",
     "text": [
      "torch.Size([2, 1024])\n",
      "torch.Size([2, 51])\n",
      "loss is: 0.14168372750282288\n"
     ]
    },
    {
     "name": "stderr",
     "output_type": "stream",
     "text": [
      " 80%|████████  | 4/5 [00:01<00:00,  2.72it/s]"
     ]
    },
    {
     "name": "stdout",
     "output_type": "stream",
     "text": [
      "torch.Size([2, 1024])\n",
      "torch.Size([2, 51])\n",
      "loss is: 0.14116808772087097\n"
     ]
    },
    {
     "name": "stderr",
     "output_type": "stream",
     "text": [
      "100%|██████████| 5/5 [00:01<00:00,  2.60it/s]\n"
     ]
    },
    {
     "name": "stdout",
     "output_type": "stream",
     "text": [
      "torch.Size([2, 1024])\n",
      "torch.Size([2, 51])\n",
      "loss is: 0.14161521196365356\n"
     ]
    },
    {
     "name": "stderr",
     "output_type": "stream",
     "text": [
      " 20%|██        | 1/5 [00:00<00:01,  2.47it/s]"
     ]
    },
    {
     "name": "stdout",
     "output_type": "stream",
     "text": [
      "torch.Size([2, 1024])\n",
      "torch.Size([2, 51])\n",
      "loss is: 0.1413842737674713\n"
     ]
    },
    {
     "name": "stderr",
     "output_type": "stream",
     "text": [
      " 40%|████      | 2/5 [00:00<00:01,  2.66it/s]"
     ]
    },
    {
     "name": "stdout",
     "output_type": "stream",
     "text": [
      "torch.Size([2, 1024])\n",
      "torch.Size([2, 51])\n",
      "loss is: 0.14189063012599945\n"
     ]
    },
    {
     "name": "stderr",
     "output_type": "stream",
     "text": [
      " 60%|██████    | 3/5 [00:01<00:00,  2.53it/s]"
     ]
    },
    {
     "name": "stdout",
     "output_type": "stream",
     "text": [
      "torch.Size([2, 1024])\n",
      "torch.Size([2, 51])\n",
      "loss is: 0.14098872244358063\n"
     ]
    },
    {
     "name": "stderr",
     "output_type": "stream",
     "text": [
      " 80%|████████  | 4/5 [00:01<00:00,  2.77it/s]"
     ]
    },
    {
     "name": "stdout",
     "output_type": "stream",
     "text": [
      "torch.Size([2, 1024])\n",
      "torch.Size([2, 51])\n",
      "loss is: 0.14151392877101898\n"
     ]
    },
    {
     "name": "stderr",
     "output_type": "stream",
     "text": [
      "100%|██████████| 5/5 [00:01<00:00,  2.59it/s]\n"
     ]
    },
    {
     "name": "stdout",
     "output_type": "stream",
     "text": [
      "torch.Size([2, 1024])\n",
      "torch.Size([2, 51])\n",
      "loss is: 0.1423322707414627\n"
     ]
    },
    {
     "name": "stderr",
     "output_type": "stream",
     "text": [
      " 20%|██        | 1/5 [00:00<00:01,  2.69it/s]"
     ]
    },
    {
     "name": "stdout",
     "output_type": "stream",
     "text": [
      "torch.Size([2, 1024])\n",
      "torch.Size([2, 51])\n",
      "loss is: 0.1413448601961136\n"
     ]
    },
    {
     "name": "stderr",
     "output_type": "stream",
     "text": [
      " 40%|████      | 2/5 [00:00<00:01,  2.77it/s]"
     ]
    },
    {
     "name": "stdout",
     "output_type": "stream",
     "text": [
      "torch.Size([2, 1024])\n",
      "torch.Size([2, 51])\n",
      "loss is: 0.14181287586688995\n"
     ]
    },
    {
     "name": "stderr",
     "output_type": "stream",
     "text": [
      " 60%|██████    | 3/5 [00:01<00:00,  2.66it/s]"
     ]
    },
    {
     "name": "stdout",
     "output_type": "stream",
     "text": [
      "torch.Size([2, 1024])\n",
      "torch.Size([2, 51])\n",
      "loss is: 0.1415730118751526\n"
     ]
    },
    {
     "name": "stderr",
     "output_type": "stream",
     "text": [
      " 80%|████████  | 4/5 [00:01<00:00,  2.76it/s]"
     ]
    },
    {
     "name": "stdout",
     "output_type": "stream",
     "text": [
      "torch.Size([2, 1024])\n",
      "torch.Size([2, 51])\n",
      "loss is: 0.14097434282302856\n"
     ]
    },
    {
     "name": "stderr",
     "output_type": "stream",
     "text": [
      "100%|██████████| 5/5 [00:01<00:00,  2.71it/s]\n"
     ]
    },
    {
     "name": "stdout",
     "output_type": "stream",
     "text": [
      "torch.Size([2, 1024])\n",
      "torch.Size([2, 51])\n",
      "loss is: 0.1416037231683731\n"
     ]
    },
    {
     "name": "stderr",
     "output_type": "stream",
     "text": [
      " 20%|██        | 1/5 [00:00<00:01,  2.75it/s]"
     ]
    },
    {
     "name": "stdout",
     "output_type": "stream",
     "text": [
      "torch.Size([2, 1024])\n",
      "torch.Size([2, 51])\n",
      "loss is: 0.14159290492534637\n"
     ]
    },
    {
     "name": "stderr",
     "output_type": "stream",
     "text": [
      " 40%|████      | 2/5 [00:00<00:01,  2.79it/s]"
     ]
    },
    {
     "name": "stdout",
     "output_type": "stream",
     "text": [
      "torch.Size([2, 1024])\n",
      "torch.Size([2, 51])\n",
      "loss is: 0.14173544943332672\n"
     ]
    },
    {
     "name": "stderr",
     "output_type": "stream",
     "text": [
      " 60%|██████    | 3/5 [00:01<00:00,  2.56it/s]"
     ]
    },
    {
     "name": "stdout",
     "output_type": "stream",
     "text": [
      "torch.Size([2, 1024])\n",
      "torch.Size([2, 51])\n",
      "loss is: 0.14205436408519745\n"
     ]
    },
    {
     "name": "stderr",
     "output_type": "stream",
     "text": [
      " 80%|████████  | 4/5 [00:01<00:00,  2.57it/s]"
     ]
    },
    {
     "name": "stdout",
     "output_type": "stream",
     "text": [
      "torch.Size([2, 1024])\n",
      "torch.Size([2, 51])\n",
      "loss is: 0.14070169627666473\n"
     ]
    },
    {
     "name": "stderr",
     "output_type": "stream",
     "text": [
      "100%|██████████| 5/5 [00:01<00:00,  2.67it/s]\n"
     ]
    },
    {
     "name": "stdout",
     "output_type": "stream",
     "text": [
      "torch.Size([2, 1024])\n",
      "torch.Size([2, 51])\n",
      "loss is: 0.14141838252544403\n"
     ]
    },
    {
     "name": "stderr",
     "output_type": "stream",
     "text": [
      " 20%|██        | 1/5 [00:00<00:01,  2.62it/s]"
     ]
    },
    {
     "name": "stdout",
     "output_type": "stream",
     "text": [
      "torch.Size([2, 1024])\n",
      "torch.Size([2, 51])\n",
      "loss is: 0.14146490395069122\n"
     ]
    },
    {
     "name": "stderr",
     "output_type": "stream",
     "text": [
      " 40%|████      | 2/5 [00:00<00:01,  2.70it/s]"
     ]
    },
    {
     "name": "stdout",
     "output_type": "stream",
     "text": [
      "torch.Size([2, 1024])\n",
      "torch.Size([2, 51])\n",
      "loss is: 0.14152102172374725\n"
     ]
    },
    {
     "name": "stderr",
     "output_type": "stream",
     "text": [
      " 60%|██████    | 3/5 [00:01<00:00,  2.78it/s]"
     ]
    },
    {
     "name": "stdout",
     "output_type": "stream",
     "text": [
      "torch.Size([2, 1024])\n",
      "torch.Size([2, 51])\n",
      "loss is: 0.1409948468208313\n"
     ]
    },
    {
     "name": "stderr",
     "output_type": "stream",
     "text": [
      " 80%|████████  | 4/5 [00:01<00:00,  2.76it/s]"
     ]
    },
    {
     "name": "stdout",
     "output_type": "stream",
     "text": [
      "torch.Size([2, 1024])\n",
      "torch.Size([2, 51])\n",
      "loss is: 0.14166900515556335\n"
     ]
    },
    {
     "name": "stderr",
     "output_type": "stream",
     "text": [
      "100%|██████████| 5/5 [00:01<00:00,  2.69it/s]\n"
     ]
    },
    {
     "name": "stdout",
     "output_type": "stream",
     "text": [
      "torch.Size([2, 1024])\n",
      "torch.Size([2, 51])\n",
      "loss is: 0.1404111236333847\n"
     ]
    },
    {
     "name": "stderr",
     "output_type": "stream",
     "text": [
      " 20%|██        | 1/5 [00:00<00:01,  2.71it/s]"
     ]
    },
    {
     "name": "stdout",
     "output_type": "stream",
     "text": [
      "torch.Size([2, 1024])\n",
      "torch.Size([2, 51])\n",
      "loss is: 0.14099624752998352\n"
     ]
    },
    {
     "name": "stderr",
     "output_type": "stream",
     "text": [
      " 40%|████      | 2/5 [00:00<00:01,  2.58it/s]"
     ]
    },
    {
     "name": "stdout",
     "output_type": "stream",
     "text": [
      "torch.Size([2, 1024])\n",
      "torch.Size([2, 51])\n",
      "loss is: 0.14143069088459015\n"
     ]
    },
    {
     "name": "stderr",
     "output_type": "stream",
     "text": [
      " 60%|██████    | 3/5 [00:01<00:00,  2.68it/s]"
     ]
    },
    {
     "name": "stdout",
     "output_type": "stream",
     "text": [
      "torch.Size([2, 1024])\n",
      "torch.Size([2, 51])\n",
      "loss is: 0.1410658210515976\n"
     ]
    },
    {
     "name": "stderr",
     "output_type": "stream",
     "text": [
      " 80%|████████  | 4/5 [00:01<00:00,  2.75it/s]"
     ]
    },
    {
     "name": "stdout",
     "output_type": "stream",
     "text": [
      "torch.Size([2, 1024])\n",
      "torch.Size([2, 51])\n",
      "loss is: 0.14119437336921692\n"
     ]
    },
    {
     "name": "stderr",
     "output_type": "stream",
     "text": [
      "100%|██████████| 5/5 [00:01<00:00,  2.65it/s]\n"
     ]
    },
    {
     "name": "stdout",
     "output_type": "stream",
     "text": [
      "torch.Size([2, 1024])\n",
      "torch.Size([2, 51])\n",
      "loss is: 0.14104358851909637\n"
     ]
    },
    {
     "name": "stderr",
     "output_type": "stream",
     "text": [
      " 20%|██        | 1/5 [00:00<00:01,  2.60it/s]"
     ]
    },
    {
     "name": "stdout",
     "output_type": "stream",
     "text": [
      "torch.Size([2, 1024])\n",
      "torch.Size([2, 51])\n",
      "loss is: 0.14102709293365479\n"
     ]
    },
    {
     "name": "stderr",
     "output_type": "stream",
     "text": [
      " 40%|████      | 2/5 [00:00<00:01,  2.51it/s]"
     ]
    },
    {
     "name": "stdout",
     "output_type": "stream",
     "text": [
      "torch.Size([2, 1024])\n",
      "torch.Size([2, 51])\n",
      "loss is: 0.1412414014339447\n"
     ]
    },
    {
     "name": "stderr",
     "output_type": "stream",
     "text": [
      " 60%|██████    | 3/5 [00:01<00:00,  2.58it/s]"
     ]
    },
    {
     "name": "stdout",
     "output_type": "stream",
     "text": [
      "torch.Size([2, 1024])\n",
      "torch.Size([2, 51])\n",
      "loss is: 0.1415288746356964\n"
     ]
    },
    {
     "name": "stderr",
     "output_type": "stream",
     "text": [
      " 80%|████████  | 4/5 [00:01<00:00,  2.47it/s]"
     ]
    },
    {
     "name": "stdout",
     "output_type": "stream",
     "text": [
      "torch.Size([2, 1024])\n",
      "torch.Size([2, 51])\n",
      "loss is: 0.14146092534065247\n"
     ]
    },
    {
     "name": "stderr",
     "output_type": "stream",
     "text": [
      "100%|██████████| 5/5 [00:01<00:00,  2.53it/s]\n"
     ]
    },
    {
     "name": "stdout",
     "output_type": "stream",
     "text": [
      "torch.Size([2, 1024])\n",
      "torch.Size([2, 51])\n",
      "loss is: 0.14059075713157654\n"
     ]
    },
    {
     "name": "stderr",
     "output_type": "stream",
     "text": [
      " 20%|██        | 1/5 [00:00<00:01,  2.43it/s]"
     ]
    },
    {
     "name": "stdout",
     "output_type": "stream",
     "text": [
      "torch.Size([2, 1024])\n",
      "torch.Size([2, 51])\n",
      "loss is: 0.14116480946540833\n"
     ]
    },
    {
     "name": "stderr",
     "output_type": "stream",
     "text": [
      " 40%|████      | 2/5 [00:00<00:01,  2.69it/s]"
     ]
    },
    {
     "name": "stdout",
     "output_type": "stream",
     "text": [
      "torch.Size([2, 1024])\n",
      "torch.Size([2, 51])\n",
      "loss is: 0.14098747074604034\n"
     ]
    },
    {
     "name": "stderr",
     "output_type": "stream",
     "text": [
      " 60%|██████    | 3/5 [00:01<00:00,  2.32it/s]"
     ]
    },
    {
     "name": "stdout",
     "output_type": "stream",
     "text": [
      "torch.Size([2, 1024])\n",
      "torch.Size([2, 51])\n",
      "loss is: 0.14032377302646637\n"
     ]
    },
    {
     "name": "stderr",
     "output_type": "stream",
     "text": [
      " 80%|████████  | 4/5 [00:01<00:00,  2.72it/s]"
     ]
    },
    {
     "name": "stdout",
     "output_type": "stream",
     "text": [
      "torch.Size([2, 1024])\n",
      "torch.Size([2, 51])\n",
      "loss is: 0.14134012162685394\n"
     ]
    },
    {
     "name": "stderr",
     "output_type": "stream",
     "text": [
      "100%|██████████| 5/5 [00:01<00:00,  2.59it/s]\n"
     ]
    },
    {
     "name": "stdout",
     "output_type": "stream",
     "text": [
      "torch.Size([2, 1024])\n",
      "torch.Size([2, 51])\n",
      "loss is: 0.14079321920871735\n"
     ]
    },
    {
     "name": "stderr",
     "output_type": "stream",
     "text": [
      " 20%|██        | 1/5 [00:00<00:01,  2.93it/s]"
     ]
    },
    {
     "name": "stdout",
     "output_type": "stream",
     "text": [
      "torch.Size([2, 1024])\n",
      "torch.Size([2, 51])\n",
      "loss is: 0.1411798745393753\n"
     ]
    },
    {
     "name": "stderr",
     "output_type": "stream",
     "text": [
      " 40%|████      | 2/5 [00:00<00:01,  2.86it/s]"
     ]
    },
    {
     "name": "stdout",
     "output_type": "stream",
     "text": [
      "torch.Size([2, 1024])\n",
      "torch.Size([2, 51])\n",
      "loss is: 0.14017167687416077\n"
     ]
    },
    {
     "name": "stderr",
     "output_type": "stream",
     "text": [
      " 60%|██████    | 3/5 [00:01<00:00,  2.84it/s]"
     ]
    },
    {
     "name": "stdout",
     "output_type": "stream",
     "text": [
      "torch.Size([2, 1024])\n",
      "torch.Size([2, 51])\n",
      "loss is: 0.14128060638904572\n"
     ]
    },
    {
     "name": "stderr",
     "output_type": "stream",
     "text": [
      " 80%|████████  | 4/5 [00:01<00:00,  2.80it/s]"
     ]
    },
    {
     "name": "stdout",
     "output_type": "stream",
     "text": [
      "torch.Size([2, 1024])\n",
      "torch.Size([2, 51])\n",
      "loss is: 0.14080777764320374\n"
     ]
    },
    {
     "name": "stderr",
     "output_type": "stream",
     "text": [
      "100%|██████████| 5/5 [00:01<00:00,  2.85it/s]\n"
     ]
    },
    {
     "name": "stdout",
     "output_type": "stream",
     "text": [
      "torch.Size([2, 1024])\n",
      "torch.Size([2, 51])\n",
      "loss is: 0.13949696719646454\n"
     ]
    },
    {
     "name": "stderr",
     "output_type": "stream",
     "text": [
      " 20%|██        | 1/5 [00:00<00:01,  2.72it/s]"
     ]
    },
    {
     "name": "stdout",
     "output_type": "stream",
     "text": [
      "torch.Size([2, 1024])\n",
      "torch.Size([2, 51])\n",
      "loss is: 0.1405038833618164\n"
     ]
    },
    {
     "name": "stderr",
     "output_type": "stream",
     "text": [
      " 40%|████      | 2/5 [00:00<00:01,  2.60it/s]"
     ]
    },
    {
     "name": "stdout",
     "output_type": "stream",
     "text": [
      "torch.Size([2, 1024])\n",
      "torch.Size([2, 51])\n",
      "loss is: 0.1407449096441269\n"
     ]
    },
    {
     "name": "stderr",
     "output_type": "stream",
     "text": [
      " 60%|██████    | 3/5 [00:01<00:00,  2.65it/s]"
     ]
    },
    {
     "name": "stdout",
     "output_type": "stream",
     "text": [
      "torch.Size([2, 1024])\n",
      "torch.Size([2, 51])\n",
      "loss is: 0.14100268483161926\n"
     ]
    },
    {
     "name": "stderr",
     "output_type": "stream",
     "text": [
      " 80%|████████  | 4/5 [00:01<00:00,  2.66it/s]"
     ]
    },
    {
     "name": "stdout",
     "output_type": "stream",
     "text": [
      "torch.Size([2, 1024])\n",
      "torch.Size([2, 51])\n",
      "loss is: 0.14010414481163025\n"
     ]
    },
    {
     "name": "stderr",
     "output_type": "stream",
     "text": [
      "100%|██████████| 5/5 [00:01<00:00,  2.67it/s]\n"
     ]
    },
    {
     "name": "stdout",
     "output_type": "stream",
     "text": [
      "torch.Size([2, 1024])\n",
      "torch.Size([2, 51])\n",
      "loss is: 0.14072494208812714\n"
     ]
    },
    {
     "name": "stderr",
     "output_type": "stream",
     "text": [
      " 20%|██        | 1/5 [00:00<00:01,  2.55it/s]"
     ]
    },
    {
     "name": "stdout",
     "output_type": "stream",
     "text": [
      "torch.Size([2, 1024])\n",
      "torch.Size([2, 51])\n",
      "loss is: 0.1403990238904953\n"
     ]
    },
    {
     "name": "stderr",
     "output_type": "stream",
     "text": [
      " 40%|████      | 2/5 [00:00<00:01,  2.75it/s]"
     ]
    },
    {
     "name": "stdout",
     "output_type": "stream",
     "text": [
      "torch.Size([2, 1024])\n",
      "torch.Size([2, 51])\n",
      "loss is: 0.14093641936779022\n"
     ]
    },
    {
     "name": "stderr",
     "output_type": "stream",
     "text": [
      " 60%|██████    | 3/5 [00:01<00:00,  2.66it/s]"
     ]
    },
    {
     "name": "stdout",
     "output_type": "stream",
     "text": [
      "torch.Size([2, 1024])\n",
      "torch.Size([2, 51])\n",
      "loss is: 0.1406097710132599\n"
     ]
    },
    {
     "name": "stderr",
     "output_type": "stream",
     "text": [
      " 80%|████████  | 4/5 [00:01<00:00,  2.80it/s]"
     ]
    },
    {
     "name": "stdout",
     "output_type": "stream",
     "text": [
      "torch.Size([2, 1024])\n",
      "torch.Size([2, 51])\n",
      "loss is: 0.13996905088424683\n"
     ]
    },
    {
     "name": "stderr",
     "output_type": "stream",
     "text": [
      "100%|██████████| 5/5 [00:01<00:00,  2.73it/s]\n"
     ]
    },
    {
     "name": "stdout",
     "output_type": "stream",
     "text": [
      "torch.Size([2, 1024])\n",
      "torch.Size([2, 51])\n",
      "loss is: 0.14102846384048462\n"
     ]
    },
    {
     "name": "stderr",
     "output_type": "stream",
     "text": [
      " 20%|██        | 1/5 [00:00<00:01,  2.82it/s]"
     ]
    },
    {
     "name": "stdout",
     "output_type": "stream",
     "text": [
      "torch.Size([2, 1024])\n",
      "torch.Size([2, 51])\n",
      "loss is: 0.14151015877723694\n"
     ]
    },
    {
     "name": "stderr",
     "output_type": "stream",
     "text": [
      " 40%|████      | 2/5 [00:00<00:01,  2.83it/s]"
     ]
    },
    {
     "name": "stdout",
     "output_type": "stream",
     "text": [
      "torch.Size([2, 1024])\n",
      "torch.Size([2, 51])\n",
      "loss is: 0.1407378613948822\n"
     ]
    },
    {
     "name": "stderr",
     "output_type": "stream",
     "text": [
      " 60%|██████    | 3/5 [00:01<00:00,  2.74it/s]"
     ]
    },
    {
     "name": "stdout",
     "output_type": "stream",
     "text": [
      "torch.Size([2, 1024])\n",
      "torch.Size([2, 51])\n",
      "loss is: 0.14077156782150269\n"
     ]
    },
    {
     "name": "stderr",
     "output_type": "stream",
     "text": [
      " 80%|████████  | 4/5 [00:01<00:00,  2.80it/s]"
     ]
    },
    {
     "name": "stdout",
     "output_type": "stream",
     "text": [
      "torch.Size([2, 1024])\n",
      "torch.Size([2, 51])\n",
      "loss is: 0.140558660030365\n"
     ]
    },
    {
     "name": "stderr",
     "output_type": "stream",
     "text": [
      "100%|██████████| 5/5 [00:01<00:00,  2.79it/s]\n"
     ]
    },
    {
     "name": "stdout",
     "output_type": "stream",
     "text": [
      "torch.Size([2, 1024])\n",
      "torch.Size([2, 51])\n",
      "loss is: 0.13957372307777405\n"
     ]
    },
    {
     "name": "stderr",
     "output_type": "stream",
     "text": [
      " 20%|██        | 1/5 [00:00<00:01,  2.64it/s]"
     ]
    },
    {
     "name": "stdout",
     "output_type": "stream",
     "text": [
      "torch.Size([2, 1024])\n",
      "torch.Size([2, 51])\n",
      "loss is: 0.13988472521305084\n"
     ]
    },
    {
     "name": "stderr",
     "output_type": "stream",
     "text": [
      " 40%|████      | 2/5 [00:00<00:01,  2.65it/s]"
     ]
    },
    {
     "name": "stdout",
     "output_type": "stream",
     "text": [
      "torch.Size([2, 1024])\n",
      "torch.Size([2, 51])\n",
      "loss is: 0.13956479728221893\n"
     ]
    },
    {
     "name": "stderr",
     "output_type": "stream",
     "text": [
      " 60%|██████    | 3/5 [00:01<00:00,  2.69it/s]"
     ]
    },
    {
     "name": "stdout",
     "output_type": "stream",
     "text": [
      "torch.Size([2, 1024])\n",
      "torch.Size([2, 51])\n",
      "loss is: 0.14067335426807404\n"
     ]
    },
    {
     "name": "stderr",
     "output_type": "stream",
     "text": [
      " 80%|████████  | 4/5 [00:01<00:00,  2.55it/s]"
     ]
    },
    {
     "name": "stdout",
     "output_type": "stream",
     "text": [
      "torch.Size([2, 1024])\n",
      "torch.Size([2, 51])\n",
      "loss is: 0.14048068225383759\n"
     ]
    },
    {
     "name": "stderr",
     "output_type": "stream",
     "text": [
      "100%|██████████| 5/5 [00:01<00:00,  2.64it/s]\n"
     ]
    },
    {
     "name": "stdout",
     "output_type": "stream",
     "text": [
      "torch.Size([2, 1024])\n",
      "torch.Size([2, 51])\n",
      "loss is: 0.14025123417377472\n"
     ]
    },
    {
     "name": "stderr",
     "output_type": "stream",
     "text": [
      " 20%|██        | 1/5 [00:00<00:01,  2.60it/s]"
     ]
    },
    {
     "name": "stdout",
     "output_type": "stream",
     "text": [
      "torch.Size([2, 1024])\n",
      "torch.Size([2, 51])\n",
      "loss is: 0.1395069658756256\n"
     ]
    },
    {
     "name": "stderr",
     "output_type": "stream",
     "text": [
      " 40%|████      | 2/5 [00:00<00:01,  2.57it/s]"
     ]
    },
    {
     "name": "stdout",
     "output_type": "stream",
     "text": [
      "torch.Size([2, 1024])\n",
      "torch.Size([2, 51])\n",
      "loss is: 0.14055518805980682\n"
     ]
    },
    {
     "name": "stderr",
     "output_type": "stream",
     "text": [
      " 60%|██████    | 3/5 [00:01<00:00,  2.38it/s]"
     ]
    },
    {
     "name": "stdout",
     "output_type": "stream",
     "text": [
      "torch.Size([2, 1024])\n",
      "torch.Size([2, 51])\n",
      "loss is: 0.14007098972797394\n"
     ]
    },
    {
     "name": "stderr",
     "output_type": "stream",
     "text": [
      " 80%|████████  | 4/5 [00:01<00:00,  2.70it/s]"
     ]
    },
    {
     "name": "stdout",
     "output_type": "stream",
     "text": [
      "torch.Size([2, 1024])\n",
      "torch.Size([2, 51])\n",
      "loss is: 0.13974973559379578\n"
     ]
    },
    {
     "name": "stderr",
     "output_type": "stream",
     "text": [
      "100%|██████████| 5/5 [00:01<00:00,  2.61it/s]\n"
     ]
    },
    {
     "name": "stdout",
     "output_type": "stream",
     "text": [
      "torch.Size([2, 1024])\n",
      "torch.Size([2, 51])\n",
      "loss is: 0.14015476405620575\n"
     ]
    },
    {
     "name": "stderr",
     "output_type": "stream",
     "text": [
      " 20%|██        | 1/5 [00:00<00:01,  2.68it/s]"
     ]
    },
    {
     "name": "stdout",
     "output_type": "stream",
     "text": [
      "torch.Size([2, 1024])\n",
      "torch.Size([2, 51])\n",
      "loss is: 0.14034995436668396\n"
     ]
    },
    {
     "name": "stderr",
     "output_type": "stream",
     "text": [
      " 40%|████      | 2/5 [00:00<00:01,  2.58it/s]"
     ]
    },
    {
     "name": "stdout",
     "output_type": "stream",
     "text": [
      "torch.Size([2, 1024])\n",
      "torch.Size([2, 51])\n",
      "loss is: 0.14015789330005646\n"
     ]
    },
    {
     "name": "stderr",
     "output_type": "stream",
     "text": [
      " 60%|██████    | 3/5 [00:01<00:00,  2.68it/s]"
     ]
    },
    {
     "name": "stdout",
     "output_type": "stream",
     "text": [
      "torch.Size([2, 1024])\n",
      "torch.Size([2, 51])\n",
      "loss is: 0.13996656239032745\n"
     ]
    },
    {
     "name": "stderr",
     "output_type": "stream",
     "text": [
      " 80%|████████  | 4/5 [00:01<00:00,  2.64it/s]"
     ]
    },
    {
     "name": "stdout",
     "output_type": "stream",
     "text": [
      "torch.Size([2, 1024])\n",
      "torch.Size([2, 51])\n",
      "loss is: 0.14038042724132538\n"
     ]
    },
    {
     "name": "stderr",
     "output_type": "stream",
     "text": [
      "100%|██████████| 5/5 [00:01<00:00,  2.63it/s]\n"
     ]
    },
    {
     "name": "stdout",
     "output_type": "stream",
     "text": [
      "torch.Size([2, 1024])\n",
      "torch.Size([2, 51])\n",
      "loss is: 0.1393802911043167\n"
     ]
    },
    {
     "name": "stderr",
     "output_type": "stream",
     "text": [
      " 20%|██        | 1/5 [00:00<00:01,  2.36it/s]"
     ]
    },
    {
     "name": "stdout",
     "output_type": "stream",
     "text": [
      "torch.Size([2, 1024])\n",
      "torch.Size([2, 51])\n",
      "loss is: 0.13979676365852356\n"
     ]
    },
    {
     "name": "stderr",
     "output_type": "stream",
     "text": [
      " 40%|████      | 2/5 [00:00<00:01,  2.50it/s]"
     ]
    },
    {
     "name": "stdout",
     "output_type": "stream",
     "text": [
      "torch.Size([2, 1024])\n",
      "torch.Size([2, 51])\n",
      "loss is: 0.13990041613578796\n"
     ]
    },
    {
     "name": "stderr",
     "output_type": "stream",
     "text": [
      " 60%|██████    | 3/5 [00:01<00:00,  2.64it/s]"
     ]
    },
    {
     "name": "stdout",
     "output_type": "stream",
     "text": [
      "torch.Size([2, 1024])\n",
      "torch.Size([2, 51])\n",
      "loss is: 0.14007627964019775\n"
     ]
    },
    {
     "name": "stderr",
     "output_type": "stream",
     "text": [
      " 80%|████████  | 4/5 [00:01<00:00,  2.76it/s]"
     ]
    },
    {
     "name": "stdout",
     "output_type": "stream",
     "text": [
      "torch.Size([2, 1024])\n",
      "torch.Size([2, 51])\n",
      "loss is: 0.13951221108436584\n"
     ]
    },
    {
     "name": "stderr",
     "output_type": "stream",
     "text": [
      "100%|██████████| 5/5 [00:01<00:00,  2.59it/s]\n"
     ]
    },
    {
     "name": "stdout",
     "output_type": "stream",
     "text": [
      "torch.Size([2, 1024])\n",
      "torch.Size([2, 51])\n",
      "loss is: 0.13958421349525452\n"
     ]
    },
    {
     "name": "stderr",
     "output_type": "stream",
     "text": [
      " 20%|██        | 1/5 [00:00<00:01,  2.55it/s]"
     ]
    },
    {
     "name": "stdout",
     "output_type": "stream",
     "text": [
      "torch.Size([2, 1024])\n",
      "torch.Size([2, 51])\n",
      "loss is: 0.13937006890773773\n"
     ]
    },
    {
     "name": "stderr",
     "output_type": "stream",
     "text": [
      " 40%|████      | 2/5 [00:00<00:01,  2.64it/s]"
     ]
    },
    {
     "name": "stdout",
     "output_type": "stream",
     "text": [
      "torch.Size([2, 1024])\n",
      "torch.Size([2, 51])\n",
      "loss is: 0.13994869589805603\n"
     ]
    },
    {
     "name": "stderr",
     "output_type": "stream",
     "text": [
      " 60%|██████    | 3/5 [00:01<00:00,  2.68it/s]"
     ]
    },
    {
     "name": "stdout",
     "output_type": "stream",
     "text": [
      "torch.Size([2, 1024])\n",
      "torch.Size([2, 51])\n",
      "loss is: 0.1399228870868683\n"
     ]
    },
    {
     "name": "stderr",
     "output_type": "stream",
     "text": [
      " 80%|████████  | 4/5 [00:01<00:00,  2.75it/s]"
     ]
    },
    {
     "name": "stdout",
     "output_type": "stream",
     "text": [
      "torch.Size([2, 1024])\n",
      "torch.Size([2, 51])\n",
      "loss is: 0.13969865441322327\n"
     ]
    },
    {
     "name": "stderr",
     "output_type": "stream",
     "text": [
      "100%|██████████| 5/5 [00:01<00:00,  2.65it/s]\n"
     ]
    },
    {
     "name": "stdout",
     "output_type": "stream",
     "text": [
      "torch.Size([2, 1024])\n",
      "torch.Size([2, 51])\n",
      "loss is: 0.13969236612319946\n"
     ]
    },
    {
     "name": "stderr",
     "output_type": "stream",
     "text": [
      " 20%|██        | 1/5 [00:00<00:01,  2.75it/s]"
     ]
    },
    {
     "name": "stdout",
     "output_type": "stream",
     "text": [
      "torch.Size([2, 1024])\n",
      "torch.Size([2, 51])\n",
      "loss is: 0.13981375098228455\n"
     ]
    },
    {
     "name": "stderr",
     "output_type": "stream",
     "text": [
      " 40%|████      | 2/5 [00:00<00:01,  2.50it/s]"
     ]
    },
    {
     "name": "stdout",
     "output_type": "stream",
     "text": [
      "torch.Size([2, 1024])\n",
      "torch.Size([2, 51])\n",
      "loss is: 0.13931691646575928\n"
     ]
    },
    {
     "name": "stderr",
     "output_type": "stream",
     "text": [
      " 60%|██████    | 3/5 [00:01<00:00,  2.62it/s]"
     ]
    },
    {
     "name": "stdout",
     "output_type": "stream",
     "text": [
      "torch.Size([2, 1024])\n",
      "torch.Size([2, 51])\n",
      "loss is: 0.14004822075366974\n"
     ]
    },
    {
     "name": "stderr",
     "output_type": "stream",
     "text": [
      " 80%|████████  | 4/5 [00:01<00:00,  2.59it/s]"
     ]
    },
    {
     "name": "stdout",
     "output_type": "stream",
     "text": [
      "torch.Size([2, 1024])\n",
      "torch.Size([2, 51])\n",
      "loss is: 0.1392030268907547\n"
     ]
    },
    {
     "name": "stderr",
     "output_type": "stream",
     "text": [
      "100%|██████████| 5/5 [00:01<00:00,  2.61it/s]"
     ]
    },
    {
     "name": "stdout",
     "output_type": "stream",
     "text": [
      "torch.Size([2, 1024])\n",
      "torch.Size([2, 51])\n",
      "loss is: 0.1398935765028\n"
     ]
    },
    {
     "name": "stderr",
     "output_type": "stream",
     "text": [
      "\n"
     ]
    }
   ],
   "source": [
    "for epoch in range(start_epoch, 20):\n",
    "    model = model.train()\n",
    "    scheduler.step()\n",
    "    for id, (points, target) in tqdm(enumerate(trainDataLoader, 0), total=len(trainDataLoader), smoothing=0.9):\n",
    "        optimizer.zero_grad()\n",
    "    \n",
    "\n",
    "        points, target = points.cuda(), target.cuda()\n",
    "        trans, features = model(points)\n",
    "        features = torch.reshape(features, (features.shape[0], 1024))\n",
    "        features = features.cuda()\n",
    "        print(features.shape)\n",
    "        pred_skeleton = modelSkeleton(features)\n",
    "        print(pred_skeleton.shape)\n",
    "        loss = criterion(torch.flatten(pred_skeleton), torch.flatten(target))\n",
    "        print(f'loss is: {loss}')\n",
    "        loss.backward()\n",
    "        optimizer.step()\n",
    "        global_step += 1"
   ]
  },
  {
   "cell_type": "code",
   "execution_count": 35,
   "metadata": {},
   "outputs": [
    {
     "ename": "AttributeError",
     "evalue": "'numpy.ndarray' object has no attribute 'numpy'",
     "output_type": "error",
     "traceback": [
      "\u001b[1;31m---------------------------------------------------------------------------\u001b[0m",
      "\u001b[1;31mAttributeError\u001b[0m                            Traceback (most recent call last)",
      "Cell \u001b[1;32mIn[35], line 1\u001b[0m\n\u001b[1;32m----> 1\u001b[0m features2 \u001b[39m=\u001b[39m features2\u001b[39m.\u001b[39;49mnumpy()\n\u001b[0;32m      2\u001b[0m \u001b[39mwith\u001b[39;00m numpy\u001b[39m.\u001b[39mprintoptions(threshold\u001b[39m=\u001b[39mnumpy\u001b[39m.\u001b[39minf):\n\u001b[0;32m      3\u001b[0m     \u001b[39mprint\u001b[39m(features2)\n",
      "\u001b[1;31mAttributeError\u001b[0m: 'numpy.ndarray' object has no attribute 'numpy'"
     ]
    }
   ],
   "source": [
    "features2 = features2.numpy()\n"
   ]
  },
  {
   "cell_type": "code",
   "execution_count": 36,
   "metadata": {},
   "outputs": [
    {
     "name": "stdout",
     "output_type": "stream",
     "text": [
      "[[[2.30094218e+00]\n",
      "  [0.00000000e+00]\n",
      "  [0.00000000e+00]\n",
      "  [0.00000000e+00]\n",
      "  [6.73071678e-41]\n",
      "  [5.84113693e+00]\n",
      "  [1.56850100e+00]\n",
      "  [1.04252303e+00]\n",
      "  [1.68080425e+00]\n",
      "  [7.01652408e-01]\n",
      "  [1.25898027e+00]\n",
      "  [9.54514623e-01]\n",
      "  [3.04808199e-01]\n",
      "  [2.30113769e+00]\n",
      "  [5.51075814e-03]\n",
      "  [6.61314279e-02]\n",
      "  [1.18993723e+00]\n",
      "  [0.00000000e+00]\n",
      "  [0.00000000e+00]\n",
      "  [1.20927677e-01]\n",
      "  [4.33171988e+00]\n",
      "  [2.14684033e+00]\n",
      "  [5.84814727e-01]\n",
      "  [2.37565804e+00]\n",
      "  [2.32604370e-02]\n",
      "  [0.00000000e+00]\n",
      "  [6.17519356e-02]\n",
      "  [6.19148445e+00]\n",
      "  [0.00000000e+00]\n",
      "  [5.95185459e-01]\n",
      "  [1.06949627e-01]\n",
      "  [3.36730853e-02]\n",
      "  [3.12295365e+00]\n",
      "  [4.14347112e-01]\n",
      "  [2.41903710e+00]\n",
      "  [2.30450511e-01]\n",
      "  [1.19443727e+00]\n",
      "  [5.33529818e-01]\n",
      "  [0.00000000e+00]\n",
      "  [2.96249479e-01]\n",
      "  [1.07648468e+00]\n",
      "  [0.00000000e+00]\n",
      "  [5.84472513e+00]\n",
      "  [0.00000000e+00]\n",
      "  [3.66736293e-01]\n",
      "  [1.26659721e-01]\n",
      "  [4.93276397e-32]\n",
      "  [1.91259131e-01]\n",
      "  [3.70894933e+00]\n",
      "  [3.07175040e-01]\n",
      "  [2.08965993e+00]\n",
      "  [1.75951874e+00]\n",
      "  [3.74750293e-08]\n",
      "  [1.38788974e+00]\n",
      "  [4.92961168e+00]\n",
      "  [4.49399614e+00]\n",
      "  [1.22157419e+00]\n",
      "  [0.00000000e+00]\n",
      "  [2.21648049e+00]\n",
      "  [4.37128246e-01]\n",
      "  [0.00000000e+00]\n",
      "  [7.42155693e-41]\n",
      "  [4.81671363e-01]\n",
      "  [4.22019938e-18]\n",
      "  [0.00000000e+00]\n",
      "  [0.00000000e+00]\n",
      "  [1.14815974e+00]\n",
      "  [1.00103509e+00]\n",
      "  [9.79669988e-01]\n",
      "  [2.72320940e-05]\n",
      "  [0.00000000e+00]\n",
      "  [0.00000000e+00]\n",
      "  [2.63171941e-01]\n",
      "  [1.47747947e-02]\n",
      "  [4.47909445e-01]\n",
      "  [3.05811986e-02]\n",
      "  [9.99643505e-01]\n",
      "  [4.66718944e-07]\n",
      "  [7.52864992e-07]\n",
      "  [1.72113150e-01]\n",
      "  [0.00000000e+00]\n",
      "  [9.48769152e-02]\n",
      "  [3.22835231e+00]\n",
      "  [4.35026288e-02]\n",
      "  [9.52304006e-02]\n",
      "  [8.68373783e-04]\n",
      "  [8.81254733e-01]\n",
      "  [1.25200248e+00]\n",
      "  [2.99246168e+00]\n",
      "  [2.47540564e-04]\n",
      "  [2.26230717e+00]\n",
      "  [4.28357184e-01]\n",
      "  [9.73189592e-01]\n",
      "  [5.89473248e-01]\n",
      "  [4.89910811e-01]\n",
      "  [3.05466831e-01]\n",
      "  [0.00000000e+00]\n",
      "  [4.51351702e-01]\n",
      "  [1.22176003e+00]\n",
      "  [8.04239377e-08]\n",
      "  [1.70271778e+00]\n",
      "  [1.67374420e+00]\n",
      "  [8.65147659e-41]\n",
      "  [3.99554032e-04]\n",
      "  [0.00000000e+00]\n",
      "  [9.07887745e+00]\n",
      "  [1.13465631e+00]\n",
      "  [1.28826201e+00]\n",
      "  [1.06872237e+00]\n",
      "  [0.00000000e+00]\n",
      "  [3.38460732e+00]\n",
      "  [5.25041294e+00]\n",
      "  [3.58496904e-02]\n",
      "  [0.00000000e+00]\n",
      "  [2.51429677e-02]\n",
      "  [2.02774465e-01]\n",
      "  [0.00000000e+00]\n",
      "  [1.59888625e-01]\n",
      "  [2.92078823e-01]\n",
      "  [2.61127174e-01]\n",
      "  [1.34074092e+00]\n",
      "  [4.81328607e-01]\n",
      "  [2.68093856e-07]\n",
      "  [1.18306786e-01]\n",
      "  [1.24107313e+00]\n",
      "  [0.00000000e+00]\n",
      "  [7.77304828e-01]\n",
      "  [4.52298582e-01]\n",
      "  [3.94304085e+00]\n",
      "  [1.43131614e+00]\n",
      "  [8.07933152e-01]\n",
      "  [5.36129773e-01]\n",
      "  [0.00000000e+00]\n",
      "  [4.90973502e-01]\n",
      "  [8.54373813e-01]\n",
      "  [0.00000000e+00]\n",
      "  [5.83828986e-02]\n",
      "  [3.53690124e+00]\n",
      "  [8.95820856e-01]\n",
      "  [1.25892627e+00]\n",
      "  [6.89916134e-01]\n",
      "  [3.61094713e+00]\n",
      "  [1.51628006e+00]\n",
      "  [5.78473210e-01]\n",
      "  [0.00000000e+00]\n",
      "  [1.04396594e+00]\n",
      "  [1.45311534e-01]\n",
      "  [2.50738811e+00]\n",
      "  [0.00000000e+00]\n",
      "  [6.63803458e-01]\n",
      "  [4.00798750e+00]\n",
      "  [4.93222684e-01]\n",
      "  [6.72982740e+00]\n",
      "  [1.47653639e-01]\n",
      "  [2.20230603e+00]\n",
      "  [2.95709550e-01]\n",
      "  [4.52223904e-02]\n",
      "  [5.16353226e+00]\n",
      "  [1.25648046e+00]\n",
      "  [5.97877940e-03]\n",
      "  [0.00000000e+00]\n",
      "  [0.00000000e+00]\n",
      "  [0.00000000e+00]\n",
      "  [0.00000000e+00]\n",
      "  [3.91507888e+00]\n",
      "  [1.07502151e+00]\n",
      "  [0.00000000e+00]\n",
      "  [0.00000000e+00]\n",
      "  [9.37457919e-01]\n",
      "  [4.10423183e+00]\n",
      "  [0.00000000e+00]\n",
      "  [9.10464585e-01]\n",
      "  [1.36275673e+00]\n",
      "  [3.71969271e-31]\n",
      "  [1.34235477e+00]\n",
      "  [9.13690209e-01]\n",
      "  [7.68030524e-01]\n",
      "  [4.99688482e+00]\n",
      "  [1.40285730e+00]\n",
      "  [5.73159098e-41]\n",
      "  [2.19916314e-01]\n",
      "  [0.00000000e+00]\n",
      "  [0.00000000e+00]\n",
      "  [1.30072236e-03]\n",
      "  [4.41001238e-40]\n",
      "  [7.48283327e-01]\n",
      "  [6.27896965e-01]\n",
      "  [2.47958377e-01]\n",
      "  [4.10599327e+00]\n",
      "  [1.30567546e-30]\n",
      "  [1.18867469e+00]\n",
      "  [4.32868433e+00]\n",
      "  [2.99914271e-01]\n",
      "  [1.63758862e+00]\n",
      "  [1.30120039e+00]\n",
      "  [5.78217077e+00]\n",
      "  [3.28090119e+00]\n",
      "  [1.22972584e+00]\n",
      "  [1.64081681e+00]\n",
      "  [0.00000000e+00]\n",
      "  [7.00196862e-01]\n",
      "  [0.00000000e+00]\n",
      "  [0.00000000e+00]\n",
      "  [5.97808436e-02]\n",
      "  [2.59725584e-06]\n",
      "  [9.83680844e-01]\n",
      "  [6.27556086e-01]\n",
      "  [4.17486429e-01]\n",
      "  [0.00000000e+00]\n",
      "  [0.00000000e+00]\n",
      "  [0.00000000e+00]\n",
      "  [3.44267726e-01]\n",
      "  [2.44611979e-01]\n",
      "  [0.00000000e+00]\n",
      "  [4.51336050e+00]\n",
      "  [3.49416137e+00]\n",
      "  [3.56650911e-03]\n",
      "  [5.47305703e-01]\n",
      "  [5.09834420e-41]\n",
      "  [1.35706306e+00]\n",
      "  [1.35820365e+00]\n",
      "  [6.53958380e-01]\n",
      "  [1.06881201e+00]\n",
      "  [9.64860630e+00]\n",
      "  [2.20555282e+00]\n",
      "  [4.52827215e+00]\n",
      "  [6.85395181e-01]\n",
      "  [3.86108041e+00]\n",
      "  [0.00000000e+00]\n",
      "  [2.45858043e-01]\n",
      "  [0.00000000e+00]\n",
      "  [8.79654765e-01]\n",
      "  [1.43401623e-01]\n",
      "  [4.53551441e-01]\n",
      "  [1.84950650e-01]\n",
      "  [0.00000000e+00]\n",
      "  [5.32250166e+00]\n",
      "  [2.84299374e-01]\n",
      "  [4.11852884e+00]\n",
      "  [1.28572631e+00]\n",
      "  [1.04602549e-25]\n",
      "  [1.05989173e-01]\n",
      "  [5.50200045e-03]\n",
      "  [1.10724211e-01]\n",
      "  [6.39161646e-01]\n",
      "  [1.80692565e+00]\n",
      "  [2.33476305e+00]\n",
      "  [6.94337785e-01]\n",
      "  [4.89127810e-21]\n",
      "  [0.00000000e+00]\n",
      "  [1.71655923e-01]\n",
      "  [2.92381585e-01]\n",
      "  [6.43341184e-01]\n",
      "  [0.00000000e+00]\n",
      "  [2.91189194e-01]\n",
      "  [6.02626896e+00]\n",
      "  [5.15535831e-01]\n",
      "  [1.07488906e+00]\n",
      "  [3.94817255e-03]\n",
      "  [7.93308854e-01]\n",
      "  [0.00000000e+00]\n",
      "  [1.02752638e+00]\n",
      "  [8.05943394e+00]\n",
      "  [2.70689583e+00]\n",
      "  [1.10925806e+00]\n",
      "  [2.71864605e+00]\n",
      "  [1.34736443e+00]\n",
      "  [1.23101451e-01]\n",
      "  [3.65193069e-01]\n",
      "  [0.00000000e+00]\n",
      "  [0.00000000e+00]\n",
      "  [7.98020840e-01]\n",
      "  [2.70467257e+00]\n",
      "  [0.00000000e+00]\n",
      "  [2.25813198e+00]\n",
      "  [0.00000000e+00]\n",
      "  [0.00000000e+00]\n",
      "  [2.49384832e+00]\n",
      "  [7.17280030e-01]\n",
      "  [0.00000000e+00]\n",
      "  [5.03087938e-01]\n",
      "  [1.62707232e-02]\n",
      "  [2.13824719e-01]\n",
      "  [3.26762962e+00]\n",
      "  [5.54970789e+00]\n",
      "  [8.46506655e-01]\n",
      "  [5.49436665e+00]\n",
      "  [2.59056538e-01]\n",
      "  [5.16561222e+00]\n",
      "  [0.00000000e+00]\n",
      "  [1.22464180e+00]\n",
      "  [4.37473440e+00]\n",
      "  [0.00000000e+00]\n",
      "  [1.51663804e+00]\n",
      "  [1.06499064e+00]\n",
      "  [2.69633025e-01]\n",
      "  [6.30696413e-41]\n",
      "  [5.86146832e-01]\n",
      "  [5.38624674e-02]\n",
      "  [0.00000000e+00]\n",
      "  [0.00000000e+00]\n",
      "  [6.90671325e-01]\n",
      "  [3.47112894e+00]\n",
      "  [0.00000000e+00]\n",
      "  [2.45818921e-09]\n",
      "  [1.51520669e-01]\n",
      "  [1.03049994e+00]\n",
      "  [9.03465569e-01]\n",
      "  [9.10041213e-01]\n",
      "  [2.55577147e-01]\n",
      "  [2.29018331e-02]\n",
      "  [1.11909461e+00]\n",
      "  [0.00000000e+00]\n",
      "  [3.40683683e-41]\n",
      "  [0.00000000e+00]\n",
      "  [7.58935213e+00]\n",
      "  [0.00000000e+00]\n",
      "  [1.75093644e-40]\n",
      "  [1.16464615e+00]\n",
      "  [7.83217549e-01]\n",
      "  [1.78833902e-01]\n",
      "  [0.00000000e+00]\n",
      "  [2.27100849e+00]\n",
      "  [2.95617924e-41]\n",
      "  [0.00000000e+00]\n",
      "  [6.62642527e+00]\n",
      "  [1.12108111e+00]\n",
      "  [0.00000000e+00]\n",
      "  [1.57848048e+00]\n",
      "  [0.00000000e+00]\n",
      "  [3.03855658e+00]\n",
      "  [4.31440622e-01]\n",
      "  [3.44464093e-01]\n",
      "  [2.92010021e+00]\n",
      "  [1.80113912e+00]\n",
      "  [1.36590167e-40]\n",
      "  [5.93636557e-02]\n",
      "  [0.00000000e+00]\n",
      "  [1.64384165e-20]\n",
      "  [6.94901496e-02]\n",
      "  [4.55092788e-01]\n",
      "  [0.00000000e+00]\n",
      "  [2.87168298e-08]\n",
      "  [0.00000000e+00]\n",
      "  [1.80302954e+00]\n",
      "  [7.59363638e-42]\n",
      "  [1.89575470e-17]\n",
      "  [0.00000000e+00]\n",
      "  [3.64499474e+00]\n",
      "  [0.00000000e+00]\n",
      "  [8.23674321e-01]\n",
      "  [8.60719681e-02]\n",
      "  [0.00000000e+00]\n",
      "  [2.28599424e-40]\n",
      "  [5.51192760e-01]\n",
      "  [0.00000000e+00]\n",
      "  [1.90027565e-01]\n",
      "  [2.22641706e-01]\n",
      "  [2.40586460e-01]\n",
      "  [1.60197109e-01]\n",
      "  [2.61217862e-01]\n",
      "  [1.77465153e+00]\n",
      "  [0.00000000e+00]\n",
      "  [3.90953481e-01]\n",
      "  [0.00000000e+00]\n",
      "  [5.72556674e-01]\n",
      "  [4.64561653e+00]\n",
      "  [6.52106047e-01]\n",
      "  [3.94394994e-01]\n",
      "  [0.00000000e+00]\n",
      "  [0.00000000e+00]\n",
      "  [0.00000000e+00]\n",
      "  [5.66454083e-02]\n",
      "  [1.56870329e+00]\n",
      "  [5.74612021e-01]\n",
      "  [0.00000000e+00]\n",
      "  [3.36260796e-01]\n",
      "  [1.56622779e+00]\n",
      "  [2.43364000e+00]\n",
      "  [5.80435097e-01]\n",
      "  [4.78186309e-01]\n",
      "  [3.05997998e-01]\n",
      "  [3.82767320e-01]\n",
      "  [2.30343759e-01]\n",
      "  [3.78891850e+00]\n",
      "  [1.47179130e-03]\n",
      "  [1.64663780e-40]\n",
      "  [0.00000000e+00]\n",
      "  [9.07549560e-02]\n",
      "  [3.49491313e-02]\n",
      "  [4.42778158e+00]\n",
      "  [2.90943980e-01]\n",
      "  [4.24765635e+00]\n",
      "  [7.16101408e-01]\n",
      "  [9.83805656e-02]\n",
      "  [0.00000000e+00]\n",
      "  [3.92441690e-01]\n",
      "  [6.33593947e-02]\n",
      "  [8.75111965e-08]\n",
      "  [5.83191216e-01]\n",
      "  [8.17343526e-09]\n",
      "  [0.00000000e+00]\n",
      "  [3.19370651e+00]\n",
      "  [1.76794124e+00]\n",
      "  [2.22318578e+00]\n",
      "  [1.56367338e+00]\n",
      "  [4.89367068e-01]\n",
      "  [2.73837233e+00]\n",
      "  [0.00000000e+00]\n",
      "  [1.21528208e-02]\n",
      "  [7.95867324e-01]\n",
      "  [4.23713267e-01]\n",
      "  [2.53010392e-01]\n",
      "  [8.44713628e-01]\n",
      "  [3.47955704e-01]\n",
      "  [1.24881446e+00]\n",
      "  [2.13725594e-04]\n",
      "  [4.82467318e+00]\n",
      "  [9.27537560e-01]\n",
      "  [0.00000000e+00]\n",
      "  [0.00000000e+00]\n",
      "  [1.02945948e+00]\n",
      "  [0.00000000e+00]\n",
      "  [1.12467217e+00]\n",
      "  [2.33758092e-01]\n",
      "  [1.66294098e-01]\n",
      "  [1.08935940e+00]\n",
      "  [1.48212957e+00]\n",
      "  [4.39126462e-01]\n",
      "  [0.00000000e+00]\n",
      "  [4.14689511e-01]\n",
      "  [9.60215688e-01]\n",
      "  [2.74477935e-40]\n",
      "  [1.74221158e-01]\n",
      "  [2.60675430e-01]\n",
      "  [8.08833539e-01]\n",
      "  [6.99872851e-01]\n",
      "  [2.86012352e-01]\n",
      "  [5.31706858e+00]\n",
      "  [6.95122123e-01]\n",
      "  [0.00000000e+00]\n",
      "  [3.06468271e-02]\n",
      "  [1.68108237e+00]\n",
      "  [0.00000000e+00]\n",
      "  [8.60313179e-41]\n",
      "  [3.28785729e+00]\n",
      "  [0.00000000e+00]\n",
      "  [3.79163338e-41]\n",
      "  [5.13603151e-01]\n",
      "  [1.51969776e-01]\n",
      "  [0.00000000e+00]\n",
      "  [1.02768695e+00]\n",
      "  [3.07736182e+00]\n",
      "  [0.00000000e+00]\n",
      "  [2.02976179e+00]\n",
      "  [0.00000000e+00]\n",
      "  [0.00000000e+00]\n",
      "  [5.40328324e-02]\n",
      "  [9.50436741e-02]\n",
      "  [3.91402878e-02]\n",
      "  [0.00000000e+00]\n",
      "  [2.73718148e-01]\n",
      "  [0.00000000e+00]\n",
      "  [1.70040816e-01]\n",
      "  [1.40791595e+00]\n",
      "  [4.44251054e-04]\n",
      "  [6.95179418e-12]\n",
      "  [0.00000000e+00]\n",
      "  [0.00000000e+00]\n",
      "  [2.09364712e-01]\n",
      "  [1.77437872e-01]\n",
      "  [5.25703430e-02]\n",
      "  [1.15267731e-01]\n",
      "  [4.03814495e-01]\n",
      "  [0.00000000e+00]\n",
      "  [8.10572132e-02]\n",
      "  [1.81949884e-02]\n",
      "  [6.36807719e-25]\n",
      "  [0.00000000e+00]\n",
      "  [2.06145358e+00]\n",
      "  [0.00000000e+00]\n",
      "  [2.17299485e+00]\n",
      "  [6.31252080e-02]\n",
      "  [1.83817297e-01]\n",
      "  [0.00000000e+00]\n",
      "  [5.06790066e+00]\n",
      "  [6.35451078e-03]\n",
      "  [3.67664695e-02]\n",
      "  [1.19131934e-02]\n",
      "  [0.00000000e+00]\n",
      "  [6.86781025e+00]\n",
      "  [5.20887136e-01]\n",
      "  [4.39603388e-01]\n",
      "  [5.22649498e-04]\n",
      "  [1.27139318e+00]\n",
      "  [8.42062950e-01]\n",
      "  [6.75152063e-01]\n",
      "  [7.83544958e-01]\n",
      "  [6.56227827e-01]\n",
      "  [1.18170691e+00]\n",
      "  [3.31762123e+00]\n",
      "  [1.90298185e-01]\n",
      "  [1.83739936e+00]\n",
      "  [3.05673020e-04]\n",
      "  [2.13480594e-14]\n",
      "  [0.00000000e+00]\n",
      "  [1.33068323e-01]\n",
      "  [0.00000000e+00]\n",
      "  [3.35909456e-01]\n",
      "  [5.69327312e-06]\n",
      "  [0.00000000e+00]\n",
      "  [1.46355897e-01]\n",
      "  [0.00000000e+00]\n",
      "  [0.00000000e+00]\n",
      "  [1.37400117e-40]\n",
      "  [6.89683093e-14]\n",
      "  [0.00000000e+00]\n",
      "  [2.26280275e-40]\n",
      "  [0.00000000e+00]\n",
      "  [2.58035350e+00]\n",
      "  [6.35063499e-02]\n",
      "  [3.33829999e+00]\n",
      "  [5.40876985e-02]\n",
      "  [5.92695832e-01]\n",
      "  [0.00000000e+00]\n",
      "  [4.17052065e-24]\n",
      "  [1.67576063e+00]\n",
      "  [1.20973456e+00]\n",
      "  [3.52818823e+00]\n",
      "  [0.00000000e+00]\n",
      "  [5.79245329e-01]\n",
      "  [1.28635645e+00]\n",
      "  [2.32991859e-01]\n",
      "  [0.00000000e+00]\n",
      "  [1.23729622e+00]\n",
      "  [3.93053204e-01]\n",
      "  [3.33670914e-01]\n",
      "  [8.75191331e-01]\n",
      "  [2.47028542e+00]\n",
      "  [1.39516258e+00]\n",
      "  [3.09382409e-01]\n",
      "  [6.40349537e-02]\n",
      "  [2.63296068e-01]\n",
      "  [3.00052434e-01]\n",
      "  [0.00000000e+00]\n",
      "  [2.17094564e+00]\n",
      "  [1.07297873e+00]\n",
      "  [3.73608380e-34]\n",
      "  [0.00000000e+00]\n",
      "  [0.00000000e+00]\n",
      "  [3.55322242e-01]\n",
      "  [8.78122926e-01]\n",
      "  [0.00000000e+00]\n",
      "  [2.81798989e-01]\n",
      "  [3.40320039e+00]\n",
      "  [7.71531677e+00]\n",
      "  [1.56261897e+00]\n",
      "  [2.20062017e-01]\n",
      "  [2.11642265e+00]\n",
      "  [0.00000000e+00]\n",
      "  [0.00000000e+00]\n",
      "  [1.50156647e-01]\n",
      "  [8.99848223e-01]\n",
      "  [1.25757739e-01]\n",
      "  [9.72794056e+00]\n",
      "  [1.68227291e+00]\n",
      "  [0.00000000e+00]\n",
      "  [8.94729069e-42]\n",
      "  [1.05977044e-01]\n",
      "  [3.68892360e+00]\n",
      "  [3.16461205e-01]\n",
      "  [1.02457154e+00]\n",
      "  [4.48984891e-01]\n",
      "  [2.98119813e-01]\n",
      "  [2.44366097e+00]\n",
      "  [1.30585939e-01]\n",
      "  [0.00000000e+00]\n",
      "  [1.13399470e+00]\n",
      "  [5.30168533e-01]\n",
      "  [0.00000000e+00]\n",
      "  [3.58418465e-01]\n",
      "  [1.75154066e+00]\n",
      "  [6.22455850e-02]\n",
      "  [7.39678944e-05]\n",
      "  [0.00000000e+00]\n",
      "  [1.61345768e+00]\n",
      "  [0.00000000e+00]\n",
      "  [2.81950021e+00]\n",
      "  [0.00000000e+00]\n",
      "  [8.55445027e-01]\n",
      "  [1.31446902e-11]\n",
      "  [0.00000000e+00]\n",
      "  [0.00000000e+00]\n",
      "  [0.00000000e+00]\n",
      "  [5.69559276e-01]\n",
      "  [0.00000000e+00]\n",
      "  [0.00000000e+00]\n",
      "  [0.00000000e+00]\n",
      "  [8.54629755e-01]\n",
      "  [2.95968249e-41]\n",
      "  [0.00000000e+00]\n",
      "  [3.09834450e-01]\n",
      "  [1.18096769e-01]\n",
      "  [1.25195055e+01]\n",
      "  [2.03180575e+00]\n",
      "  [3.94172907e-01]\n",
      "  [2.88993835e-01]\n",
      "  [4.92179692e-01]\n",
      "  [1.02000260e+00]\n",
      "  [3.97367096e+00]\n",
      "  [2.48885453e-01]\n",
      "  [8.81051049e-02]\n",
      "  [0.00000000e+00]\n",
      "  [3.61337709e+00]\n",
      "  [1.21141970e+00]\n",
      "  [6.67535186e-01]\n",
      "  [2.44123459e+00]\n",
      "  [0.00000000e+00]\n",
      "  [1.28833026e-01]\n",
      "  [4.84427691e-01]\n",
      "  [4.93022537e+00]\n",
      "  [7.89896846e-01]\n",
      "  [1.99881363e+00]\n",
      "  [1.21830821e-01]\n",
      "  [1.31776333e+00]\n",
      "  [9.60411012e-01]\n",
      "  [0.00000000e+00]\n",
      "  [2.25982761e+00]\n",
      "  [6.45032644e+00]\n",
      "  [0.00000000e+00]\n",
      "  [4.23731744e-01]\n",
      "  [1.03447628e+00]\n",
      "  [1.84123799e-01]\n",
      "  [4.16260868e-01]\n",
      "  [1.70428866e-05]\n",
      "  [4.76495743e+00]\n",
      "  [8.06347132e-02]\n",
      "  [4.82440218e-02]\n",
      "  [2.52598810e+00]\n",
      "  [5.04116654e-01]\n",
      "  [2.58099794e+00]\n",
      "  [3.84849734e-08]\n",
      "  [0.00000000e+00]\n",
      "  [7.62966692e-01]\n",
      "  [7.42214060e+00]\n",
      "  [0.00000000e+00]\n",
      "  [2.70686412e+00]\n",
      "  [2.42730394e-01]\n",
      "  [3.38787190e-03]\n",
      "  [4.15136278e-01]\n",
      "  [6.08768940e-01]\n",
      "  [1.43991262e-01]\n",
      "  [1.11631596e+00]\n",
      "  [9.15478989e-02]\n",
      "  [3.85922007e-02]\n",
      "  [0.00000000e+00]\n",
      "  [1.24137592e+00]\n",
      "  [2.56807446e-01]\n",
      "  [5.14474916e+00]\n",
      "  [1.06752861e+00]\n",
      "  [6.39385033e+00]\n",
      "  [1.29941195e-01]\n",
      "  [9.95422602e-02]\n",
      "  [3.10337949e+00]\n",
      "  [3.54392910e+00]\n",
      "  [1.19271493e+00]\n",
      "  [2.05566585e-01]\n",
      "  [0.00000000e+00]\n",
      "  [0.00000000e+00]\n",
      "  [1.31760728e+00]\n",
      "  [1.83451006e-26]\n",
      "  [3.09022158e-01]\n",
      "  [2.26825684e-01]\n",
      "  [1.34108573e-01]\n",
      "  [2.24582243e+00]\n",
      "  [3.64396286e+00]\n",
      "  [2.73104459e-01]\n",
      "  [3.46261203e-01]\n",
      "  [1.91579275e-02]\n",
      "  [6.40623212e-01]\n",
      "  [5.68051219e-01]\n",
      "  [3.06618422e-01]\n",
      "  [5.35186672e+00]\n",
      "  [1.37804270e+00]\n",
      "  [4.77978634e-03]\n",
      "  [0.00000000e+00]\n",
      "  [2.50403023e+00]\n",
      "  [1.44175649e+00]\n",
      "  [5.28983653e-01]\n",
      "  [1.99549747e+00]\n",
      "  [3.25335622e-01]\n",
      "  [2.07392216e-01]\n",
      "  [3.28655298e-19]\n",
      "  [5.55925369e+00]\n",
      "  [3.78857636e+00]\n",
      "  [8.38659954e+00]\n",
      "  [2.50176096e+00]\n",
      "  [5.76108336e-01]\n",
      "  [0.00000000e+00]\n",
      "  [2.66485238e+00]\n",
      "  [6.30902708e-15]\n",
      "  [9.47179124e-02]\n",
      "  [5.62368691e-01]\n",
      "  [2.08216136e-40]\n",
      "  [0.00000000e+00]\n",
      "  [0.00000000e+00]\n",
      "  [1.49474144e+00]\n",
      "  [1.69889379e+00]\n",
      "  [1.32176721e+00]\n",
      "  [0.00000000e+00]\n",
      "  [1.41488886e+00]\n",
      "  [3.13929003e-03]\n",
      "  [7.58077264e-01]\n",
      "  [5.36456156e+00]\n",
      "  [1.27214078e-40]\n",
      "  [1.49611712e+00]\n",
      "  [8.89113307e-01]\n",
      "  [4.35135178e-02]\n",
      "  [1.46157324e+00]\n",
      "  [1.12736857e+00]\n",
      "  [0.00000000e+00]\n",
      "  [1.90691578e+00]\n",
      "  [1.61490858e-01]\n",
      "  [0.00000000e+00]\n",
      "  [7.12190326e-40]\n",
      "  [4.91267443e-02]\n",
      "  [4.45889825e-10]\n",
      "  [6.04176807e+00]\n",
      "  [3.99201930e-01]\n",
      "  [7.67578334e-02]\n",
      "  [1.81564331e+00]\n",
      "  [8.17723870e-01]\n",
      "  [1.68702322e-41]\n",
      "  [1.78223699e-01]\n",
      "  [1.06234360e+00]\n",
      "  [1.24657488e+00]\n",
      "  [4.48726845e+00]\n",
      "  [1.56175232e+00]\n",
      "  [0.00000000e+00]\n",
      "  [3.22999239e-01]\n",
      "  [1.22909951e+00]\n",
      "  [0.00000000e+00]\n",
      "  [0.00000000e+00]\n",
      "  [7.27686405e-01]\n",
      "  [1.14396477e+00]\n",
      "  [4.80398446e-01]\n",
      "  [0.00000000e+00]\n",
      "  [2.13240290e+00]\n",
      "  [1.18509424e+00]\n",
      "  [6.74883557e-40]\n",
      "  [4.36406136e-02]\n",
      "  [6.32147741e+00]\n",
      "  [0.00000000e+00]\n",
      "  [1.10652647e-10]\n",
      "  [6.27920777e-03]\n",
      "  [1.74173445e-01]\n",
      "  [4.72026443e+00]\n",
      "  [3.12752104e+00]\n",
      "  [2.91110098e-01]\n",
      "  [5.61680835e-09]\n",
      "  [0.00000000e+00]\n",
      "  [1.55617003e-04]\n",
      "  [2.56443650e-01]\n",
      "  [2.15997875e-01]\n",
      "  [1.97255826e+00]\n",
      "  [8.67599931e-41]\n",
      "  [3.31511229e-01]\n",
      "  [0.00000000e+00]\n",
      "  [0.00000000e+00]\n",
      "  [5.89493871e-01]\n",
      "  [1.05223393e+00]\n",
      "  [0.00000000e+00]\n",
      "  [0.00000000e+00]\n",
      "  [0.00000000e+00]\n",
      "  [4.10258151e-41]\n",
      "  [0.00000000e+00]\n",
      "  [2.12608576e+00]\n",
      "  [7.38054752e-01]\n",
      "  [0.00000000e+00]\n",
      "  [5.99602032e+00]\n",
      "  [1.76366019e+00]\n",
      "  [1.28830040e+00]\n",
      "  [6.71605468e-01]\n",
      "  [4.72924900e+00]\n",
      "  [1.95646429e+00]\n",
      "  [0.00000000e+00]\n",
      "  [0.00000000e+00]\n",
      "  [5.25770724e-01]\n",
      "  [2.06139721e-02]\n",
      "  [7.45703697e-01]\n",
      "  [4.93706353e-02]\n",
      "  [3.09536517e-01]\n",
      "  [2.68785861e-40]\n",
      "  [3.35341120e+00]\n",
      "  [4.29918289e+00]\n",
      "  [1.13362050e+00]\n",
      "  [2.22955918e+00]\n",
      "  [0.00000000e+00]\n",
      "  [1.89406812e-01]\n",
      "  [5.42544127e+00]\n",
      "  [1.60371416e-15]\n",
      "  [2.20268106e+00]\n",
      "  [2.61964738e-01]\n",
      "  [7.14100456e+00]\n",
      "  [5.34836471e-01]\n",
      "  [0.00000000e+00]\n",
      "  [6.51488879e-40]\n",
      "  [6.23633742e-01]\n",
      "  [2.51909196e-01]\n",
      "  [1.10391784e+00]\n",
      "  [1.09810404e-01]\n",
      "  [1.54568911e+00]\n",
      "  [2.10984039e+00]\n",
      "  [5.43545485e-02]\n",
      "  [1.61299157e+00]\n",
      "  [4.03179526e-01]\n",
      "  [1.14174604e+00]\n",
      "  [3.34907603e+00]\n",
      "  [2.13351712e-01]\n",
      "  [4.57531548e+00]\n",
      "  [0.00000000e+00]\n",
      "  [0.00000000e+00]\n",
      "  [3.15964985e+00]\n",
      "  [3.84922290e+00]\n",
      "  [3.47422743e+00]\n",
      "  [0.00000000e+00]\n",
      "  [0.00000000e+00]\n",
      "  [1.40426892e-09]\n",
      "  [8.71187255e-42]\n",
      "  [7.94439733e-01]\n",
      "  [0.00000000e+00]\n",
      "  [1.05965018e+00]\n",
      "  [1.77911311e-01]\n",
      "  [5.36582470e+00]\n",
      "  [0.00000000e+00]\n",
      "  [8.94532278e-02]\n",
      "  [1.26567155e-01]\n",
      "  [0.00000000e+00]\n",
      "  [8.22483540e-01]\n",
      "  [1.21248698e+00]\n",
      "  [0.00000000e+00]\n",
      "  [2.41952628e-01]\n",
      "  [1.47050524e+00]\n",
      "  [1.29474831e+00]\n",
      "  [2.78854132e+00]\n",
      "  [0.00000000e+00]\n",
      "  [1.64032996e+00]\n",
      "  [0.00000000e+00]\n",
      "  [9.87091660e-01]\n",
      "  [0.00000000e+00]\n",
      "  [6.34790421e-01]\n",
      "  [1.96761012e+00]\n",
      "  [1.65559247e-01]\n",
      "  [5.62460242e-30]\n",
      "  [5.05997658e-01]\n",
      "  [3.30987471e-18]\n",
      "  [0.00000000e+00]\n",
      "  [6.09152485e-04]\n",
      "  [4.83198553e-01]\n",
      "  [1.11073947e+00]\n",
      "  [8.89403462e-01]\n",
      "  [0.00000000e+00]\n",
      "  [0.00000000e+00]\n",
      "  [1.08336687e+00]\n",
      "  [1.25239718e+00]\n",
      "  [0.00000000e+00]\n",
      "  [2.87168094e-41]\n",
      "  [4.92690474e-01]\n",
      "  [2.38534498e+00]\n",
      "  [8.36370766e-01]\n",
      "  [1.05926871e-01]\n",
      "  [6.19239330e+00]\n",
      "  [0.00000000e+00]\n",
      "  [0.00000000e+00]\n",
      "  [0.00000000e+00]\n",
      "  [4.00982761e+00]\n",
      "  [2.46014655e-01]\n",
      "  [4.03233147e+00]\n",
      "  [1.78772926e+00]\n",
      "  [1.52454266e-40]\n",
      "  [6.53495669e-01]\n",
      "  [4.19170171e-01]\n",
      "  [1.16365862e+00]\n",
      "  [0.00000000e+00]\n",
      "  [0.00000000e+00]\n",
      "  [2.04872084e+00]\n",
      "  [5.27345538e-01]\n",
      "  [1.50176430e+00]\n",
      "  [3.17573810e+00]\n",
      "  [1.62991528e-05]\n",
      "  [9.42891026e-25]\n",
      "  [5.21042156e+00]\n",
      "  [1.60118997e+00]\n",
      "  [1.25295575e-12]\n",
      "  [1.34516001e+00]\n",
      "  [5.14939833e+00]\n",
      "  [0.00000000e+00]\n",
      "  [2.99743891e-01]\n",
      "  [1.16757877e-01]\n",
      "  [1.07287526e+00]\n",
      "  [1.30206287e-01]\n",
      "  [9.16280597e-02]\n",
      "  [1.34411848e+00]\n",
      "  [4.27664012e-01]\n",
      "  [2.23905742e-02]\n",
      "  [0.00000000e+00]\n",
      "  [1.82671404e+00]\n",
      "  [3.29214716e+00]\n",
      "  [3.73489118e+00]\n",
      "  [9.72557738e-02]\n",
      "  [1.09208405e+00]\n",
      "  [4.24221456e-01]\n",
      "  [4.02623534e-01]\n",
      "  [4.69531536e+00]\n",
      "  [2.09848070e+00]\n",
      "  [4.98839587e-01]\n",
      "  [2.93689823e+00]\n",
      "  [0.00000000e+00]\n",
      "  [4.14903927e+00]\n",
      "  [7.33510554e-01]\n",
      "  [0.00000000e+00]\n",
      "  [0.00000000e+00]\n",
      "  [5.49987698e+00]\n",
      "  [3.27161574e+00]\n",
      "  [8.85195673e-01]\n",
      "  [1.03341115e+00]\n",
      "  [5.83962262e-01]\n",
      "  [8.43109226e+00]\n",
      "  [7.27690011e-02]\n",
      "  [8.37744534e-01]\n",
      "  [8.60893607e-01]\n",
      "  [3.18774837e-03]\n",
      "  [8.14727783e-01]\n",
      "  [8.78386199e-01]\n",
      "  [1.29581630e-01]\n",
      "  [1.20870233e+00]\n",
      "  [2.99097490e+00]\n",
      "  [9.15637985e-02]\n",
      "  [0.00000000e+00]\n",
      "  [2.15637535e-01]\n",
      "  [0.00000000e+00]\n",
      "  [0.00000000e+00]\n",
      "  [3.01115513e+00]\n",
      "  [4.28717976e-23]\n",
      "  [1.19957882e-30]\n",
      "  [0.00000000e+00]\n",
      "  [4.12860125e-01]\n",
      "  [0.00000000e+00]\n",
      "  [4.94682968e-01]\n",
      "  [0.00000000e+00]\n",
      "  [5.03090024e-03]\n",
      "  [0.00000000e+00]\n",
      "  [1.73438077e-14]\n",
      "  [2.21963465e-01]\n",
      "  [4.74888533e-01]\n",
      "  [1.63984597e-01]\n",
      "  [0.00000000e+00]\n",
      "  [0.00000000e+00]\n",
      "  [6.56216443e-01]\n",
      "  [3.12835127e-01]\n",
      "  [6.50711393e+00]\n",
      "  [0.00000000e+00]\n",
      "  [1.98274219e+00]\n",
      "  [0.00000000e+00]\n",
      "  [3.58648986e-01]\n",
      "  [6.86291122e+00]\n",
      "  [2.97342706e+00]\n",
      "  [0.00000000e+00]\n",
      "  [4.04256344e+00]\n",
      "  [0.00000000e+00]\n",
      "  [1.27867609e-02]\n",
      "  [8.19779301e+00]\n",
      "  [0.00000000e+00]\n",
      "  [3.94773155e-01]\n",
      "  [4.12913227e+00]\n",
      "  [0.00000000e+00]\n",
      "  [1.23761249e+00]\n",
      "  [1.92454660e+00]\n",
      "  [1.00870287e+00]\n",
      "  [0.00000000e+00]\n",
      "  [5.92066906e-02]\n",
      "  [0.00000000e+00]\n",
      "  [9.93736923e-01]\n",
      "  [3.15931685e-15]\n",
      "  [2.10708499e-01]\n",
      "  [7.85721168e-02]\n",
      "  [6.18645430e-01]\n",
      "  [3.08140516e-01]\n",
      "  [3.18898845e+00]\n",
      "  [6.30062044e-01]\n",
      "  [7.70401806e-02]\n",
      "  [0.00000000e+00]\n",
      "  [1.11998588e-01]\n",
      "  [3.33669126e-01]\n",
      "  [1.20463565e-01]\n",
      "  [8.26923199e-15]\n",
      "  [0.00000000e+00]\n",
      "  [6.62074327e+00]\n",
      "  [3.73878509e-01]\n",
      "  [0.00000000e+00]\n",
      "  [4.74746019e-01]\n",
      "  [3.56808543e-01]\n",
      "  [0.00000000e+00]\n",
      "  [1.32656455e-10]\n",
      "  [1.53254107e-01]\n",
      "  [1.76936436e+00]\n",
      "  [6.31940484e-01]\n",
      "  [3.63772690e-01]\n",
      "  [0.00000000e+00]\n",
      "  [2.74270564e-01]\n",
      "  [0.00000000e+00]\n",
      "  [0.00000000e+00]\n",
      "  [3.39816279e-40]\n",
      "  [1.35565138e+00]\n",
      "  [4.53952849e-01]\n",
      "  [2.19241553e-40]\n",
      "  [0.00000000e+00]\n",
      "  [1.41431883e-01]\n",
      "  [3.61166477e-01]\n",
      "  [4.87930965e+00]\n",
      "  [0.00000000e+00]\n",
      "  [1.70576882e+00]\n",
      "  [1.98213267e+00]\n",
      "  [2.15103132e-20]]]\n"
     ]
    }
   ],
   "source": [
    "with numpy.printoptions(threshold=numpy.inf):\n",
    "    print(features2)"
   ]
  },
  {
   "cell_type": "code",
   "execution_count": 39,
   "metadata": {},
   "outputs": [],
   "source": [
    "numpy.save(\"features_196/feature3d.npy\", features2)\n",
    "numpy.save(\"features_196/feature6d.npy\", features1)"
   ]
  },
  {
   "cell_type": "code",
   "execution_count": 35,
   "metadata": {},
   "outputs": [
    {
     "name": "stdout",
     "output_type": "stream",
     "text": [
      "tensor([[[5.7356e-01],\n",
      "         [0.0000e+00],\n",
      "         [0.0000e+00],\n",
      "         ...,\n",
      "         [1.6945e+00],\n",
      "         [7.5044e-01],\n",
      "         [2.1510e-20]]])\n"
     ]
    }
   ],
   "source": [
    "print(fake_features)"
   ]
  },
  {
   "cell_type": "code",
   "execution_count": 39,
   "metadata": {},
   "outputs": [
    {
     "name": "stdout",
     "output_type": "stream",
     "text": [
      "[[[2.3009422e+00]\n",
      "  [0.0000000e+00]\n",
      "  [0.0000000e+00]\n",
      "  ...\n",
      "  [1.7057688e+00]\n",
      "  [1.9821327e+00]\n",
      "  [2.1510313e-20]]]\n"
     ]
    }
   ],
   "source": [
    "new_feature = numpy.load('../features_196/feature.npy')\n",
    "print(new_feature)"
   ]
  }
 ],
 "metadata": {
  "kernelspec": {
   "display_name": "torch",
   "language": "python",
   "name": "python3"
  },
  "language_info": {
   "codemirror_mode": {
    "name": "ipython",
    "version": 3
   },
   "file_extension": ".py",
   "mimetype": "text/x-python",
   "name": "python",
   "nbconvert_exporter": "python",
   "pygments_lexer": "ipython3",
   "version": "3.9.0"
  },
  "orig_nbformat": 4
 },
 "nbformat": 4,
 "nbformat_minor": 2
}
